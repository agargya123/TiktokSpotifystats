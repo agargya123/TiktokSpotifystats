{
  "cells": [
    {
      "cell_type": "markdown",
      "metadata": {
        "id": "view-in-github",
        "colab_type": "text"
      },
      "source": [
        "<a href=\"https://colab.research.google.com/github/agargya123/TiktokSpotifystats/blob/main/V6_Spotify_TikTok_virality.ipynb\" target=\"_parent\"><img src=\"https://colab.research.google.com/assets/colab-badge.svg\" alt=\"Open In Colab\"/></a>"
      ]
    },
    {
      "cell_type": "code",
      "execution_count": 1,
      "metadata": {
        "colab": {
          "base_uri": "https://localhost:8080/"
        },
        "id": "gRcLiSoj_mHw",
        "outputId": "8a2c88b7-ff4a-401b-9212-444b6c502512"
      },
      "outputs": [
        {
          "output_type": "stream",
          "name": "stdout",
          "text": [
            "Mounted at /content/drive\n"
          ]
        }
      ],
      "source": [
        "import pandas as pd\n",
        "import numpy as np\n",
        "from google.colab import files\n",
        "\n",
        "from google.colab import drive\n",
        "drive.mount('/content/drive')\n",
        "\n",
        "# uploaded = files.upload()"
      ]
    },
    {
      "cell_type": "code",
      "execution_count": 2,
      "metadata": {
        "colab": {
          "base_uri": "https://localhost:8080/",
          "height": 348
        },
        "id": "-squijyN8Stk",
        "outputId": "3d86ab37-4ff8-43b1-beed-4fa6349a48a2"
      },
      "outputs": [
        {
          "output_type": "execute_result",
          "data": {
            "text/plain": [
              "                               track_name    artist_name  artist_pop  \\\n",
              "0  Running Up That Hill (A Deal With God)      Kate Bush          81   \n",
              "1                               As It Was   Harry Styles          91   \n",
              "2                                 Sunroof    Nicky Youre          73   \n",
              "3                              Heat Waves  Glass Animals          80   \n",
              "4                         About Damn Time          Lizzo          81   \n",
              "\n",
              "                        album  track_pop  danceability  energy  loudness  \\\n",
              "0              Hounds Of Love         95         0.629   0.547   -13.123   \n",
              "1                   As It Was         96         0.520   0.731    -5.338   \n",
              "2                     Sunroof         44         0.768   0.716    -5.110   \n",
              "3  Dreamland (+ Bonus Levels)         89         0.761   0.525    -6.900   \n",
              "4             About Damn Time         92         0.836   0.743    -6.305   \n",
              "\n",
              "   mode  key  speechiness  acousticness  instrumentalness  liveness  valence  \\\n",
              "0     0   10       0.0550        0.7200          0.003140    0.0604    0.197   \n",
              "1     0    6       0.0557        0.3420          0.001010    0.3110    0.662   \n",
              "2     1   10       0.0404        0.3500          0.000000    0.1500    0.841   \n",
              "3     1   11       0.0944        0.4400          0.000007    0.0921    0.531   \n",
              "4     0   10       0.0656        0.0995          0.000000    0.3350    0.722   \n",
              "\n",
              "     tempo  time_signature  duration_ms  \n",
              "0  108.375               4       298933  \n",
              "1  173.930               4       167303  \n",
              "2  131.430               4       163026  \n",
              "3   80.870               4       238805  \n",
              "4  108.966               4       191822  "
            ],
            "text/html": [
              "\n",
              "  <div id=\"df-90397798-cb37-4eca-a395-9a4695c8cfa8\" class=\"colab-df-container\">\n",
              "    <div>\n",
              "<style scoped>\n",
              "    .dataframe tbody tr th:only-of-type {\n",
              "        vertical-align: middle;\n",
              "    }\n",
              "\n",
              "    .dataframe tbody tr th {\n",
              "        vertical-align: top;\n",
              "    }\n",
              "\n",
              "    .dataframe thead th {\n",
              "        text-align: right;\n",
              "    }\n",
              "</style>\n",
              "<table border=\"1\" class=\"dataframe\">\n",
              "  <thead>\n",
              "    <tr style=\"text-align: right;\">\n",
              "      <th></th>\n",
              "      <th>track_name</th>\n",
              "      <th>artist_name</th>\n",
              "      <th>artist_pop</th>\n",
              "      <th>album</th>\n",
              "      <th>track_pop</th>\n",
              "      <th>danceability</th>\n",
              "      <th>energy</th>\n",
              "      <th>loudness</th>\n",
              "      <th>mode</th>\n",
              "      <th>key</th>\n",
              "      <th>speechiness</th>\n",
              "      <th>acousticness</th>\n",
              "      <th>instrumentalness</th>\n",
              "      <th>liveness</th>\n",
              "      <th>valence</th>\n",
              "      <th>tempo</th>\n",
              "      <th>time_signature</th>\n",
              "      <th>duration_ms</th>\n",
              "    </tr>\n",
              "  </thead>\n",
              "  <tbody>\n",
              "    <tr>\n",
              "      <th>0</th>\n",
              "      <td>Running Up That Hill (A Deal With God)</td>\n",
              "      <td>Kate Bush</td>\n",
              "      <td>81</td>\n",
              "      <td>Hounds Of Love</td>\n",
              "      <td>95</td>\n",
              "      <td>0.629</td>\n",
              "      <td>0.547</td>\n",
              "      <td>-13.123</td>\n",
              "      <td>0</td>\n",
              "      <td>10</td>\n",
              "      <td>0.0550</td>\n",
              "      <td>0.7200</td>\n",
              "      <td>0.003140</td>\n",
              "      <td>0.0604</td>\n",
              "      <td>0.197</td>\n",
              "      <td>108.375</td>\n",
              "      <td>4</td>\n",
              "      <td>298933</td>\n",
              "    </tr>\n",
              "    <tr>\n",
              "      <th>1</th>\n",
              "      <td>As It Was</td>\n",
              "      <td>Harry Styles</td>\n",
              "      <td>91</td>\n",
              "      <td>As It Was</td>\n",
              "      <td>96</td>\n",
              "      <td>0.520</td>\n",
              "      <td>0.731</td>\n",
              "      <td>-5.338</td>\n",
              "      <td>0</td>\n",
              "      <td>6</td>\n",
              "      <td>0.0557</td>\n",
              "      <td>0.3420</td>\n",
              "      <td>0.001010</td>\n",
              "      <td>0.3110</td>\n",
              "      <td>0.662</td>\n",
              "      <td>173.930</td>\n",
              "      <td>4</td>\n",
              "      <td>167303</td>\n",
              "    </tr>\n",
              "    <tr>\n",
              "      <th>2</th>\n",
              "      <td>Sunroof</td>\n",
              "      <td>Nicky Youre</td>\n",
              "      <td>73</td>\n",
              "      <td>Sunroof</td>\n",
              "      <td>44</td>\n",
              "      <td>0.768</td>\n",
              "      <td>0.716</td>\n",
              "      <td>-5.110</td>\n",
              "      <td>1</td>\n",
              "      <td>10</td>\n",
              "      <td>0.0404</td>\n",
              "      <td>0.3500</td>\n",
              "      <td>0.000000</td>\n",
              "      <td>0.1500</td>\n",
              "      <td>0.841</td>\n",
              "      <td>131.430</td>\n",
              "      <td>4</td>\n",
              "      <td>163026</td>\n",
              "    </tr>\n",
              "    <tr>\n",
              "      <th>3</th>\n",
              "      <td>Heat Waves</td>\n",
              "      <td>Glass Animals</td>\n",
              "      <td>80</td>\n",
              "      <td>Dreamland (+ Bonus Levels)</td>\n",
              "      <td>89</td>\n",
              "      <td>0.761</td>\n",
              "      <td>0.525</td>\n",
              "      <td>-6.900</td>\n",
              "      <td>1</td>\n",
              "      <td>11</td>\n",
              "      <td>0.0944</td>\n",
              "      <td>0.4400</td>\n",
              "      <td>0.000007</td>\n",
              "      <td>0.0921</td>\n",
              "      <td>0.531</td>\n",
              "      <td>80.870</td>\n",
              "      <td>4</td>\n",
              "      <td>238805</td>\n",
              "    </tr>\n",
              "    <tr>\n",
              "      <th>4</th>\n",
              "      <td>About Damn Time</td>\n",
              "      <td>Lizzo</td>\n",
              "      <td>81</td>\n",
              "      <td>About Damn Time</td>\n",
              "      <td>92</td>\n",
              "      <td>0.836</td>\n",
              "      <td>0.743</td>\n",
              "      <td>-6.305</td>\n",
              "      <td>0</td>\n",
              "      <td>10</td>\n",
              "      <td>0.0656</td>\n",
              "      <td>0.0995</td>\n",
              "      <td>0.000000</td>\n",
              "      <td>0.3350</td>\n",
              "      <td>0.722</td>\n",
              "      <td>108.966</td>\n",
              "      <td>4</td>\n",
              "      <td>191822</td>\n",
              "    </tr>\n",
              "  </tbody>\n",
              "</table>\n",
              "</div>\n",
              "    <div class=\"colab-df-buttons\">\n",
              "\n",
              "  <div class=\"colab-df-container\">\n",
              "    <button class=\"colab-df-convert\" onclick=\"convertToInteractive('df-90397798-cb37-4eca-a395-9a4695c8cfa8')\"\n",
              "            title=\"Convert this dataframe to an interactive table.\"\n",
              "            style=\"display:none;\">\n",
              "\n",
              "  <svg xmlns=\"http://www.w3.org/2000/svg\" height=\"24px\" viewBox=\"0 -960 960 960\">\n",
              "    <path d=\"M120-120v-720h720v720H120Zm60-500h600v-160H180v160Zm220 220h160v-160H400v160Zm0 220h160v-160H400v160ZM180-400h160v-160H180v160Zm440 0h160v-160H620v160ZM180-180h160v-160H180v160Zm440 0h160v-160H620v160Z\"/>\n",
              "  </svg>\n",
              "    </button>\n",
              "\n",
              "  <style>\n",
              "    .colab-df-container {\n",
              "      display:flex;\n",
              "      gap: 12px;\n",
              "    }\n",
              "\n",
              "    .colab-df-convert {\n",
              "      background-color: #E8F0FE;\n",
              "      border: none;\n",
              "      border-radius: 50%;\n",
              "      cursor: pointer;\n",
              "      display: none;\n",
              "      fill: #1967D2;\n",
              "      height: 32px;\n",
              "      padding: 0 0 0 0;\n",
              "      width: 32px;\n",
              "    }\n",
              "\n",
              "    .colab-df-convert:hover {\n",
              "      background-color: #E2EBFA;\n",
              "      box-shadow: 0px 1px 2px rgba(60, 64, 67, 0.3), 0px 1px 3px 1px rgba(60, 64, 67, 0.15);\n",
              "      fill: #174EA6;\n",
              "    }\n",
              "\n",
              "    .colab-df-buttons div {\n",
              "      margin-bottom: 4px;\n",
              "    }\n",
              "\n",
              "    [theme=dark] .colab-df-convert {\n",
              "      background-color: #3B4455;\n",
              "      fill: #D2E3FC;\n",
              "    }\n",
              "\n",
              "    [theme=dark] .colab-df-convert:hover {\n",
              "      background-color: #434B5C;\n",
              "      box-shadow: 0px 1px 3px 1px rgba(0, 0, 0, 0.15);\n",
              "      filter: drop-shadow(0px 1px 2px rgba(0, 0, 0, 0.3));\n",
              "      fill: #FFFFFF;\n",
              "    }\n",
              "  </style>\n",
              "\n",
              "    <script>\n",
              "      const buttonEl =\n",
              "        document.querySelector('#df-90397798-cb37-4eca-a395-9a4695c8cfa8 button.colab-df-convert');\n",
              "      buttonEl.style.display =\n",
              "        google.colab.kernel.accessAllowed ? 'block' : 'none';\n",
              "\n",
              "      async function convertToInteractive(key) {\n",
              "        const element = document.querySelector('#df-90397798-cb37-4eca-a395-9a4695c8cfa8');\n",
              "        const dataTable =\n",
              "          await google.colab.kernel.invokeFunction('convertToInteractive',\n",
              "                                                    [key], {});\n",
              "        if (!dataTable) return;\n",
              "\n",
              "        const docLinkHtml = 'Like what you see? Visit the ' +\n",
              "          '<a target=\"_blank\" href=https://colab.research.google.com/notebooks/data_table.ipynb>data table notebook</a>'\n",
              "          + ' to learn more about interactive tables.';\n",
              "        element.innerHTML = '';\n",
              "        dataTable['output_type'] = 'display_data';\n",
              "        await google.colab.output.renderOutput(dataTable, element);\n",
              "        const docLink = document.createElement('div');\n",
              "        docLink.innerHTML = docLinkHtml;\n",
              "        element.appendChild(docLink);\n",
              "      }\n",
              "    </script>\n",
              "  </div>\n",
              "\n",
              "\n",
              "<div id=\"df-e908a575-0075-45a2-a1d1-378231ed507f\">\n",
              "  <button class=\"colab-df-quickchart\" onclick=\"quickchart('df-e908a575-0075-45a2-a1d1-378231ed507f')\"\n",
              "            title=\"Suggest charts\"\n",
              "            style=\"display:none;\">\n",
              "\n",
              "<svg xmlns=\"http://www.w3.org/2000/svg\" height=\"24px\"viewBox=\"0 0 24 24\"\n",
              "     width=\"24px\">\n",
              "    <g>\n",
              "        <path d=\"M19 3H5c-1.1 0-2 .9-2 2v14c0 1.1.9 2 2 2h14c1.1 0 2-.9 2-2V5c0-1.1-.9-2-2-2zM9 17H7v-7h2v7zm4 0h-2V7h2v10zm4 0h-2v-4h2v4z\"/>\n",
              "    </g>\n",
              "</svg>\n",
              "  </button>\n",
              "\n",
              "<style>\n",
              "  .colab-df-quickchart {\n",
              "      --bg-color: #E8F0FE;\n",
              "      --fill-color: #1967D2;\n",
              "      --hover-bg-color: #E2EBFA;\n",
              "      --hover-fill-color: #174EA6;\n",
              "      --disabled-fill-color: #AAA;\n",
              "      --disabled-bg-color: #DDD;\n",
              "  }\n",
              "\n",
              "  [theme=dark] .colab-df-quickchart {\n",
              "      --bg-color: #3B4455;\n",
              "      --fill-color: #D2E3FC;\n",
              "      --hover-bg-color: #434B5C;\n",
              "      --hover-fill-color: #FFFFFF;\n",
              "      --disabled-bg-color: #3B4455;\n",
              "      --disabled-fill-color: #666;\n",
              "  }\n",
              "\n",
              "  .colab-df-quickchart {\n",
              "    background-color: var(--bg-color);\n",
              "    border: none;\n",
              "    border-radius: 50%;\n",
              "    cursor: pointer;\n",
              "    display: none;\n",
              "    fill: var(--fill-color);\n",
              "    height: 32px;\n",
              "    padding: 0;\n",
              "    width: 32px;\n",
              "  }\n",
              "\n",
              "  .colab-df-quickchart:hover {\n",
              "    background-color: var(--hover-bg-color);\n",
              "    box-shadow: 0 1px 2px rgba(60, 64, 67, 0.3), 0 1px 3px 1px rgba(60, 64, 67, 0.15);\n",
              "    fill: var(--button-hover-fill-color);\n",
              "  }\n",
              "\n",
              "  .colab-df-quickchart-complete:disabled,\n",
              "  .colab-df-quickchart-complete:disabled:hover {\n",
              "    background-color: var(--disabled-bg-color);\n",
              "    fill: var(--disabled-fill-color);\n",
              "    box-shadow: none;\n",
              "  }\n",
              "\n",
              "  .colab-df-spinner {\n",
              "    border: 2px solid var(--fill-color);\n",
              "    border-color: transparent;\n",
              "    border-bottom-color: var(--fill-color);\n",
              "    animation:\n",
              "      spin 1s steps(1) infinite;\n",
              "  }\n",
              "\n",
              "  @keyframes spin {\n",
              "    0% {\n",
              "      border-color: transparent;\n",
              "      border-bottom-color: var(--fill-color);\n",
              "      border-left-color: var(--fill-color);\n",
              "    }\n",
              "    20% {\n",
              "      border-color: transparent;\n",
              "      border-left-color: var(--fill-color);\n",
              "      border-top-color: var(--fill-color);\n",
              "    }\n",
              "    30% {\n",
              "      border-color: transparent;\n",
              "      border-left-color: var(--fill-color);\n",
              "      border-top-color: var(--fill-color);\n",
              "      border-right-color: var(--fill-color);\n",
              "    }\n",
              "    40% {\n",
              "      border-color: transparent;\n",
              "      border-right-color: var(--fill-color);\n",
              "      border-top-color: var(--fill-color);\n",
              "    }\n",
              "    60% {\n",
              "      border-color: transparent;\n",
              "      border-right-color: var(--fill-color);\n",
              "    }\n",
              "    80% {\n",
              "      border-color: transparent;\n",
              "      border-right-color: var(--fill-color);\n",
              "      border-bottom-color: var(--fill-color);\n",
              "    }\n",
              "    90% {\n",
              "      border-color: transparent;\n",
              "      border-bottom-color: var(--fill-color);\n",
              "    }\n",
              "  }\n",
              "</style>\n",
              "\n",
              "  <script>\n",
              "    async function quickchart(key) {\n",
              "      const quickchartButtonEl =\n",
              "        document.querySelector('#' + key + ' button');\n",
              "      quickchartButtonEl.disabled = true;  // To prevent multiple clicks.\n",
              "      quickchartButtonEl.classList.add('colab-df-spinner');\n",
              "      try {\n",
              "        const charts = await google.colab.kernel.invokeFunction(\n",
              "            'suggestCharts', [key], {});\n",
              "      } catch (error) {\n",
              "        console.error('Error during call to suggestCharts:', error);\n",
              "      }\n",
              "      quickchartButtonEl.classList.remove('colab-df-spinner');\n",
              "      quickchartButtonEl.classList.add('colab-df-quickchart-complete');\n",
              "    }\n",
              "    (() => {\n",
              "      let quickchartButtonEl =\n",
              "        document.querySelector('#df-e908a575-0075-45a2-a1d1-378231ed507f button');\n",
              "      quickchartButtonEl.style.display =\n",
              "        google.colab.kernel.accessAllowed ? 'block' : 'none';\n",
              "    })();\n",
              "  </script>\n",
              "</div>\n",
              "    </div>\n",
              "  </div>\n"
            ],
            "application/vnd.google.colaboratory.intrinsic+json": {
              "type": "dataframe",
              "variable_name": "df_tiktok",
              "summary": "{\n  \"name\": \"df_tiktok\",\n  \"rows\": 263,\n  \"fields\": [\n    {\n      \"column\": \"track_name\",\n      \"properties\": {\n        \"dtype\": \"string\",\n        \"num_unique_values\": 258,\n        \"samples\": [\n          \"Cold Heart - PNAU Remix\",\n          \"1, 2, 3 (feat. Jason Derulo & De La Ghetto)\",\n          \"First Class\"\n        ],\n        \"semantic_type\": \"\",\n        \"description\": \"\"\n      }\n    },\n    {\n      \"column\": \"artist_name\",\n      \"properties\": {\n        \"dtype\": \"string\",\n        \"num_unique_values\": 199,\n        \"samples\": [\n          \"M\\u00e5neskin\",\n          \"Anitta\",\n          \"Ariana Grande\"\n        ],\n        \"semantic_type\": \"\",\n        \"description\": \"\"\n      }\n    },\n    {\n      \"column\": \"artist_pop\",\n      \"properties\": {\n        \"dtype\": \"number\",\n        \"std\": 18,\n        \"min\": 18,\n        \"max\": 95,\n        \"num_unique_values\": 66,\n        \"samples\": [\n          55,\n          18,\n          81\n        ],\n        \"semantic_type\": \"\",\n        \"description\": \"\"\n      }\n    },\n    {\n      \"column\": \"album\",\n      \"properties\": {\n        \"dtype\": \"string\",\n        \"num_unique_values\": 251,\n        \"samples\": [\n          \"Forever\",\n          \"Gemini Rights\",\n          \"Rude Boy\"\n        ],\n        \"semantic_type\": \"\",\n        \"description\": \"\"\n      }\n    },\n    {\n      \"column\": \"track_pop\",\n      \"properties\": {\n        \"dtype\": \"number\",\n        \"std\": 24,\n        \"min\": 0,\n        \"max\": 97,\n        \"num_unique_values\": 71,\n        \"samples\": [\n          81,\n          95,\n          38\n        ],\n        \"semantic_type\": \"\",\n        \"description\": \"\"\n      }\n    },\n    {\n      \"column\": \"danceability\",\n      \"properties\": {\n        \"dtype\": \"number\",\n        \"std\": 0.11772235550321888,\n        \"min\": 0.308,\n        \"max\": 0.961,\n        \"num_unique_values\": 195,\n        \"samples\": [\n          0.436,\n          0.802,\n          0.863\n        ],\n        \"semantic_type\": \"\",\n        \"description\": \"\"\n      }\n    },\n    {\n      \"column\": \"energy\",\n      \"properties\": {\n        \"dtype\": \"number\",\n        \"std\": 0.14175577353152632,\n        \"min\": 0.214,\n        \"max\": 0.955,\n        \"num_unique_values\": 207,\n        \"samples\": [\n          0.919,\n          0.736,\n          0.894\n        ],\n        \"semantic_type\": \"\",\n        \"description\": \"\"\n      }\n    },\n    {\n      \"column\": \"loudness\",\n      \"properties\": {\n        \"dtype\": \"number\",\n        \"std\": 1.9051135223968068,\n        \"min\": -13.468,\n        \"max\": -2.634,\n        \"num_unique_values\": 257,\n        \"samples\": [\n          -7.509,\n          -5.279,\n          -4.175\n        ],\n        \"semantic_type\": \"\",\n        \"description\": \"\"\n      }\n    },\n    {\n      \"column\": \"mode\",\n      \"properties\": {\n        \"dtype\": \"number\",\n        \"std\": 0,\n        \"min\": 0,\n        \"max\": 1,\n        \"num_unique_values\": 2,\n        \"samples\": [\n          1,\n          0\n        ],\n        \"semantic_type\": \"\",\n        \"description\": \"\"\n      }\n    },\n    {\n      \"column\": \"key\",\n      \"properties\": {\n        \"dtype\": \"number\",\n        \"std\": 3,\n        \"min\": 0,\n        \"max\": 11,\n        \"num_unique_values\": 12,\n        \"samples\": [\n          3,\n          7\n        ],\n        \"semantic_type\": \"\",\n        \"description\": \"\"\n      }\n    },\n    {\n      \"column\": \"speechiness\",\n      \"properties\": {\n        \"dtype\": \"number\",\n        \"std\": 0.10141657375590121,\n        \"min\": 0.0252,\n        \"max\": 0.481,\n        \"num_unique_values\": 242,\n        \"samples\": [\n          0.0288,\n          0.0355\n        ],\n        \"semantic_type\": \"\",\n        \"description\": \"\"\n      }\n    },\n    {\n      \"column\": \"acousticness\",\n      \"properties\": {\n        \"dtype\": \"number\",\n        \"std\": 0.21458840604654733,\n        \"min\": 3.84e-05,\n        \"max\": 0.965,\n        \"num_unique_values\": 244,\n        \"samples\": [\n          0.727,\n          0.613\n        ],\n        \"semantic_type\": \"\",\n        \"description\": \"\"\n      }\n    },\n    {\n      \"column\": \"instrumentalness\",\n      \"properties\": {\n        \"dtype\": \"number\",\n        \"std\": 0.10936952480543323,\n        \"min\": 0.0,\n        \"max\": 0.939,\n        \"num_unique_values\": 138,\n        \"samples\": [\n          1.31e-05,\n          0.000308\n        ],\n        \"semantic_type\": \"\",\n        \"description\": \"\"\n      }\n    },\n    {\n      \"column\": \"liveness\",\n      \"properties\": {\n        \"dtype\": \"number\",\n        \"std\": 0.15180828988680434,\n        \"min\": 0.0265,\n        \"max\": 0.79,\n        \"num_unique_values\": 206,\n        \"samples\": [\n          0.307,\n          0.113\n        ],\n        \"semantic_type\": \"\",\n        \"description\": \"\"\n      }\n    },\n    {\n      \"column\": \"valence\",\n      \"properties\": {\n        \"dtype\": \"number\",\n        \"std\": 0.2207569908229059,\n        \"min\": 0.0363,\n        \"max\": 0.956,\n        \"num_unique_values\": 228,\n        \"samples\": [\n          0.462,\n          0.654\n        ],\n        \"semantic_type\": \"\",\n        \"description\": \"\"\n      }\n    },\n    {\n      \"column\": \"tempo\",\n      \"properties\": {\n        \"dtype\": \"number\",\n        \"std\": 24.396686498489775,\n        \"min\": 62.948,\n        \"max\": 187.906,\n        \"num_unique_values\": 257,\n        \"samples\": [\n          121.002,\n          123.97\n        ],\n        \"semantic_type\": \"\",\n        \"description\": \"\"\n      }\n    },\n    {\n      \"column\": \"time_signature\",\n      \"properties\": {\n        \"dtype\": \"number\",\n        \"std\": 0,\n        \"min\": 1,\n        \"max\": 5,\n        \"num_unique_values\": 4,\n        \"samples\": [\n          3,\n          1\n        ],\n        \"semantic_type\": \"\",\n        \"description\": \"\"\n      }\n    },\n    {\n      \"column\": \"duration_ms\",\n      \"properties\": {\n        \"dtype\": \"number\",\n        \"std\": 34785,\n        \"min\": 85742,\n        \"max\": 298933,\n        \"num_unique_values\": 260,\n        \"samples\": [\n          134330,\n          190476\n        ],\n        \"semantic_type\": \"\",\n        \"description\": \"\"\n      }\n    }\n  ]\n}"
            }
          },
          "metadata": {},
          "execution_count": 2
        }
      ],
      "source": [
        "#spotify_df = pd.read_excel('/content/drive/Shared_with_me/Lorena_project/spotify_2022_data.xlsx')\n",
        "df_tiktok = pd.read_excel('/content/drive/MyDrive/01_TikTok_songs_2022.xlsx', sheet_name='tiktok')\n",
        "\n",
        "df_tiktok.head()"
      ]
    },
    {
      "cell_type": "code",
      "source": [],
      "metadata": {
        "id": "K_2cTMWS1bMx"
      },
      "execution_count": 2,
      "outputs": []
    },
    {
      "cell_type": "code",
      "source": [
        "#spotify_df = pd.read_excel('/content/drive/Shared_with_me/Lorena_project/spotify_2022_data.xlsx')\n",
        "df_spotify = pd.read_excel('/content/drive/MyDrive/01_spotify_2022_data.xlsx', sheet_name='spotify')\n",
        "\n",
        "df_spotify.head()"
      ],
      "metadata": {
        "colab": {
          "base_uri": "https://localhost:8080/",
          "height": 348
        },
        "id": "0xnSNFwa02SY",
        "outputId": "98e1f14c-275c-4487-e956-9b20306768b7"
      },
      "execution_count": 3,
      "outputs": [
        {
          "output_type": "execute_result",
          "data": {
            "text/plain": [
              "                                    uri  \\\n",
              "0  spotify:track:02MWAaffLxlfxAUY7c5dvx   \n",
              "1  spotify:track:5PjdY0CKGZdEuoNab3yDmX   \n",
              "2  spotify:track:3IAfUEeaXRX9s9UdKOJrFI   \n",
              "3  spotify:track:1HhNoOuqm1a5MXYEgAFl8o   \n",
              "4  spotify:track:4fouWK6XVHhzl78KzQ1UjL   \n",
              "\n",
              "                                      artist_names  \\\n",
              "0                                    Glass Animals   \n",
              "1                     The Kid LAROI, Justin Bieber   \n",
              "2                                           Anitta   \n",
              "3  Imagine Dragons, JID, Arcane, League of Legends   \n",
              "4                                            GAYLE   \n",
              "\n",
              "                                          track_name  peak_rank  \\\n",
              "0                                         Heat Waves          1   \n",
              "1                          STAY (with Justin Bieber)          1   \n",
              "2                                           Envolver          3   \n",
              "3  Enemy (with JID) - from the series Arcane Leag...          3   \n",
              "4                                            abcdefu          1   \n",
              "\n",
              "   weeks_on_chart  danceability  energy  key  loudness  mode  speechiness  \\\n",
              "0              65         0.761   0.525   11    -6.900     1       0.0944   \n",
              "1              37         0.591   0.764    1    -5.484     1       0.0483   \n",
              "2               3         0.812   0.736    4    -5.421     0       0.0833   \n",
              "3              21         0.728   0.783   11    -4.424     0       0.2660   \n",
              "4              19         0.695   0.540    4    -5.692     1       0.0493   \n",
              "\n",
              "   acousticness  instrumentalness  liveness    tempo  time_signature  \\\n",
              "0        0.4400          0.000007    0.0921   80.870               4   \n",
              "1        0.0383          0.000000    0.1030  169.928               4   \n",
              "2        0.1520          0.002540    0.0914   91.993               4   \n",
              "3        0.2370          0.000000    0.4340   77.011               4   \n",
              "4        0.2990          0.000000    0.3670  121.932               4   \n",
              "\n",
              "   duration_ms  \n",
              "0       238805  \n",
              "1       141806  \n",
              "2       193806  \n",
              "3       173381  \n",
              "4       168602  "
            ],
            "text/html": [
              "\n",
              "  <div id=\"df-21587831-e6fd-4811-9315-16411e1e7e97\" class=\"colab-df-container\">\n",
              "    <div>\n",
              "<style scoped>\n",
              "    .dataframe tbody tr th:only-of-type {\n",
              "        vertical-align: middle;\n",
              "    }\n",
              "\n",
              "    .dataframe tbody tr th {\n",
              "        vertical-align: top;\n",
              "    }\n",
              "\n",
              "    .dataframe thead th {\n",
              "        text-align: right;\n",
              "    }\n",
              "</style>\n",
              "<table border=\"1\" class=\"dataframe\">\n",
              "  <thead>\n",
              "    <tr style=\"text-align: right;\">\n",
              "      <th></th>\n",
              "      <th>uri</th>\n",
              "      <th>artist_names</th>\n",
              "      <th>track_name</th>\n",
              "      <th>peak_rank</th>\n",
              "      <th>weeks_on_chart</th>\n",
              "      <th>danceability</th>\n",
              "      <th>energy</th>\n",
              "      <th>key</th>\n",
              "      <th>loudness</th>\n",
              "      <th>mode</th>\n",
              "      <th>speechiness</th>\n",
              "      <th>acousticness</th>\n",
              "      <th>instrumentalness</th>\n",
              "      <th>liveness</th>\n",
              "      <th>tempo</th>\n",
              "      <th>time_signature</th>\n",
              "      <th>duration_ms</th>\n",
              "    </tr>\n",
              "  </thead>\n",
              "  <tbody>\n",
              "    <tr>\n",
              "      <th>0</th>\n",
              "      <td>spotify:track:02MWAaffLxlfxAUY7c5dvx</td>\n",
              "      <td>Glass Animals</td>\n",
              "      <td>Heat Waves</td>\n",
              "      <td>1</td>\n",
              "      <td>65</td>\n",
              "      <td>0.761</td>\n",
              "      <td>0.525</td>\n",
              "      <td>11</td>\n",
              "      <td>-6.900</td>\n",
              "      <td>1</td>\n",
              "      <td>0.0944</td>\n",
              "      <td>0.4400</td>\n",
              "      <td>0.000007</td>\n",
              "      <td>0.0921</td>\n",
              "      <td>80.870</td>\n",
              "      <td>4</td>\n",
              "      <td>238805</td>\n",
              "    </tr>\n",
              "    <tr>\n",
              "      <th>1</th>\n",
              "      <td>spotify:track:5PjdY0CKGZdEuoNab3yDmX</td>\n",
              "      <td>The Kid LAROI, Justin Bieber</td>\n",
              "      <td>STAY (with Justin Bieber)</td>\n",
              "      <td>1</td>\n",
              "      <td>37</td>\n",
              "      <td>0.591</td>\n",
              "      <td>0.764</td>\n",
              "      <td>1</td>\n",
              "      <td>-5.484</td>\n",
              "      <td>1</td>\n",
              "      <td>0.0483</td>\n",
              "      <td>0.0383</td>\n",
              "      <td>0.000000</td>\n",
              "      <td>0.1030</td>\n",
              "      <td>169.928</td>\n",
              "      <td>4</td>\n",
              "      <td>141806</td>\n",
              "    </tr>\n",
              "    <tr>\n",
              "      <th>2</th>\n",
              "      <td>spotify:track:3IAfUEeaXRX9s9UdKOJrFI</td>\n",
              "      <td>Anitta</td>\n",
              "      <td>Envolver</td>\n",
              "      <td>3</td>\n",
              "      <td>3</td>\n",
              "      <td>0.812</td>\n",
              "      <td>0.736</td>\n",
              "      <td>4</td>\n",
              "      <td>-5.421</td>\n",
              "      <td>0</td>\n",
              "      <td>0.0833</td>\n",
              "      <td>0.1520</td>\n",
              "      <td>0.002540</td>\n",
              "      <td>0.0914</td>\n",
              "      <td>91.993</td>\n",
              "      <td>4</td>\n",
              "      <td>193806</td>\n",
              "    </tr>\n",
              "    <tr>\n",
              "      <th>3</th>\n",
              "      <td>spotify:track:1HhNoOuqm1a5MXYEgAFl8o</td>\n",
              "      <td>Imagine Dragons, JID, Arcane, League of Legends</td>\n",
              "      <td>Enemy (with JID) - from the series Arcane Leag...</td>\n",
              "      <td>3</td>\n",
              "      <td>21</td>\n",
              "      <td>0.728</td>\n",
              "      <td>0.783</td>\n",
              "      <td>11</td>\n",
              "      <td>-4.424</td>\n",
              "      <td>0</td>\n",
              "      <td>0.2660</td>\n",
              "      <td>0.2370</td>\n",
              "      <td>0.000000</td>\n",
              "      <td>0.4340</td>\n",
              "      <td>77.011</td>\n",
              "      <td>4</td>\n",
              "      <td>173381</td>\n",
              "    </tr>\n",
              "    <tr>\n",
              "      <th>4</th>\n",
              "      <td>spotify:track:4fouWK6XVHhzl78KzQ1UjL</td>\n",
              "      <td>GAYLE</td>\n",
              "      <td>abcdefu</td>\n",
              "      <td>1</td>\n",
              "      <td>19</td>\n",
              "      <td>0.695</td>\n",
              "      <td>0.540</td>\n",
              "      <td>4</td>\n",
              "      <td>-5.692</td>\n",
              "      <td>1</td>\n",
              "      <td>0.0493</td>\n",
              "      <td>0.2990</td>\n",
              "      <td>0.000000</td>\n",
              "      <td>0.3670</td>\n",
              "      <td>121.932</td>\n",
              "      <td>4</td>\n",
              "      <td>168602</td>\n",
              "    </tr>\n",
              "  </tbody>\n",
              "</table>\n",
              "</div>\n",
              "    <div class=\"colab-df-buttons\">\n",
              "\n",
              "  <div class=\"colab-df-container\">\n",
              "    <button class=\"colab-df-convert\" onclick=\"convertToInteractive('df-21587831-e6fd-4811-9315-16411e1e7e97')\"\n",
              "            title=\"Convert this dataframe to an interactive table.\"\n",
              "            style=\"display:none;\">\n",
              "\n",
              "  <svg xmlns=\"http://www.w3.org/2000/svg\" height=\"24px\" viewBox=\"0 -960 960 960\">\n",
              "    <path d=\"M120-120v-720h720v720H120Zm60-500h600v-160H180v160Zm220 220h160v-160H400v160Zm0 220h160v-160H400v160ZM180-400h160v-160H180v160Zm440 0h160v-160H620v160ZM180-180h160v-160H180v160Zm440 0h160v-160H620v160Z\"/>\n",
              "  </svg>\n",
              "    </button>\n",
              "\n",
              "  <style>\n",
              "    .colab-df-container {\n",
              "      display:flex;\n",
              "      gap: 12px;\n",
              "    }\n",
              "\n",
              "    .colab-df-convert {\n",
              "      background-color: #E8F0FE;\n",
              "      border: none;\n",
              "      border-radius: 50%;\n",
              "      cursor: pointer;\n",
              "      display: none;\n",
              "      fill: #1967D2;\n",
              "      height: 32px;\n",
              "      padding: 0 0 0 0;\n",
              "      width: 32px;\n",
              "    }\n",
              "\n",
              "    .colab-df-convert:hover {\n",
              "      background-color: #E2EBFA;\n",
              "      box-shadow: 0px 1px 2px rgba(60, 64, 67, 0.3), 0px 1px 3px 1px rgba(60, 64, 67, 0.15);\n",
              "      fill: #174EA6;\n",
              "    }\n",
              "\n",
              "    .colab-df-buttons div {\n",
              "      margin-bottom: 4px;\n",
              "    }\n",
              "\n",
              "    [theme=dark] .colab-df-convert {\n",
              "      background-color: #3B4455;\n",
              "      fill: #D2E3FC;\n",
              "    }\n",
              "\n",
              "    [theme=dark] .colab-df-convert:hover {\n",
              "      background-color: #434B5C;\n",
              "      box-shadow: 0px 1px 3px 1px rgba(0, 0, 0, 0.15);\n",
              "      filter: drop-shadow(0px 1px 2px rgba(0, 0, 0, 0.3));\n",
              "      fill: #FFFFFF;\n",
              "    }\n",
              "  </style>\n",
              "\n",
              "    <script>\n",
              "      const buttonEl =\n",
              "        document.querySelector('#df-21587831-e6fd-4811-9315-16411e1e7e97 button.colab-df-convert');\n",
              "      buttonEl.style.display =\n",
              "        google.colab.kernel.accessAllowed ? 'block' : 'none';\n",
              "\n",
              "      async function convertToInteractive(key) {\n",
              "        const element = document.querySelector('#df-21587831-e6fd-4811-9315-16411e1e7e97');\n",
              "        const dataTable =\n",
              "          await google.colab.kernel.invokeFunction('convertToInteractive',\n",
              "                                                    [key], {});\n",
              "        if (!dataTable) return;\n",
              "\n",
              "        const docLinkHtml = 'Like what you see? Visit the ' +\n",
              "          '<a target=\"_blank\" href=https://colab.research.google.com/notebooks/data_table.ipynb>data table notebook</a>'\n",
              "          + ' to learn more about interactive tables.';\n",
              "        element.innerHTML = '';\n",
              "        dataTable['output_type'] = 'display_data';\n",
              "        await google.colab.output.renderOutput(dataTable, element);\n",
              "        const docLink = document.createElement('div');\n",
              "        docLink.innerHTML = docLinkHtml;\n",
              "        element.appendChild(docLink);\n",
              "      }\n",
              "    </script>\n",
              "  </div>\n",
              "\n",
              "\n",
              "<div id=\"df-f5ef1e65-3d4b-4717-93c9-36c343032e0e\">\n",
              "  <button class=\"colab-df-quickchart\" onclick=\"quickchart('df-f5ef1e65-3d4b-4717-93c9-36c343032e0e')\"\n",
              "            title=\"Suggest charts\"\n",
              "            style=\"display:none;\">\n",
              "\n",
              "<svg xmlns=\"http://www.w3.org/2000/svg\" height=\"24px\"viewBox=\"0 0 24 24\"\n",
              "     width=\"24px\">\n",
              "    <g>\n",
              "        <path d=\"M19 3H5c-1.1 0-2 .9-2 2v14c0 1.1.9 2 2 2h14c1.1 0 2-.9 2-2V5c0-1.1-.9-2-2-2zM9 17H7v-7h2v7zm4 0h-2V7h2v10zm4 0h-2v-4h2v4z\"/>\n",
              "    </g>\n",
              "</svg>\n",
              "  </button>\n",
              "\n",
              "<style>\n",
              "  .colab-df-quickchart {\n",
              "      --bg-color: #E8F0FE;\n",
              "      --fill-color: #1967D2;\n",
              "      --hover-bg-color: #E2EBFA;\n",
              "      --hover-fill-color: #174EA6;\n",
              "      --disabled-fill-color: #AAA;\n",
              "      --disabled-bg-color: #DDD;\n",
              "  }\n",
              "\n",
              "  [theme=dark] .colab-df-quickchart {\n",
              "      --bg-color: #3B4455;\n",
              "      --fill-color: #D2E3FC;\n",
              "      --hover-bg-color: #434B5C;\n",
              "      --hover-fill-color: #FFFFFF;\n",
              "      --disabled-bg-color: #3B4455;\n",
              "      --disabled-fill-color: #666;\n",
              "  }\n",
              "\n",
              "  .colab-df-quickchart {\n",
              "    background-color: var(--bg-color);\n",
              "    border: none;\n",
              "    border-radius: 50%;\n",
              "    cursor: pointer;\n",
              "    display: none;\n",
              "    fill: var(--fill-color);\n",
              "    height: 32px;\n",
              "    padding: 0;\n",
              "    width: 32px;\n",
              "  }\n",
              "\n",
              "  .colab-df-quickchart:hover {\n",
              "    background-color: var(--hover-bg-color);\n",
              "    box-shadow: 0 1px 2px rgba(60, 64, 67, 0.3), 0 1px 3px 1px rgba(60, 64, 67, 0.15);\n",
              "    fill: var(--button-hover-fill-color);\n",
              "  }\n",
              "\n",
              "  .colab-df-quickchart-complete:disabled,\n",
              "  .colab-df-quickchart-complete:disabled:hover {\n",
              "    background-color: var(--disabled-bg-color);\n",
              "    fill: var(--disabled-fill-color);\n",
              "    box-shadow: none;\n",
              "  }\n",
              "\n",
              "  .colab-df-spinner {\n",
              "    border: 2px solid var(--fill-color);\n",
              "    border-color: transparent;\n",
              "    border-bottom-color: var(--fill-color);\n",
              "    animation:\n",
              "      spin 1s steps(1) infinite;\n",
              "  }\n",
              "\n",
              "  @keyframes spin {\n",
              "    0% {\n",
              "      border-color: transparent;\n",
              "      border-bottom-color: var(--fill-color);\n",
              "      border-left-color: var(--fill-color);\n",
              "    }\n",
              "    20% {\n",
              "      border-color: transparent;\n",
              "      border-left-color: var(--fill-color);\n",
              "      border-top-color: var(--fill-color);\n",
              "    }\n",
              "    30% {\n",
              "      border-color: transparent;\n",
              "      border-left-color: var(--fill-color);\n",
              "      border-top-color: var(--fill-color);\n",
              "      border-right-color: var(--fill-color);\n",
              "    }\n",
              "    40% {\n",
              "      border-color: transparent;\n",
              "      border-right-color: var(--fill-color);\n",
              "      border-top-color: var(--fill-color);\n",
              "    }\n",
              "    60% {\n",
              "      border-color: transparent;\n",
              "      border-right-color: var(--fill-color);\n",
              "    }\n",
              "    80% {\n",
              "      border-color: transparent;\n",
              "      border-right-color: var(--fill-color);\n",
              "      border-bottom-color: var(--fill-color);\n",
              "    }\n",
              "    90% {\n",
              "      border-color: transparent;\n",
              "      border-bottom-color: var(--fill-color);\n",
              "    }\n",
              "  }\n",
              "</style>\n",
              "\n",
              "  <script>\n",
              "    async function quickchart(key) {\n",
              "      const quickchartButtonEl =\n",
              "        document.querySelector('#' + key + ' button');\n",
              "      quickchartButtonEl.disabled = true;  // To prevent multiple clicks.\n",
              "      quickchartButtonEl.classList.add('colab-df-spinner');\n",
              "      try {\n",
              "        const charts = await google.colab.kernel.invokeFunction(\n",
              "            'suggestCharts', [key], {});\n",
              "      } catch (error) {\n",
              "        console.error('Error during call to suggestCharts:', error);\n",
              "      }\n",
              "      quickchartButtonEl.classList.remove('colab-df-spinner');\n",
              "      quickchartButtonEl.classList.add('colab-df-quickchart-complete');\n",
              "    }\n",
              "    (() => {\n",
              "      let quickchartButtonEl =\n",
              "        document.querySelector('#df-f5ef1e65-3d4b-4717-93c9-36c343032e0e button');\n",
              "      quickchartButtonEl.style.display =\n",
              "        google.colab.kernel.accessAllowed ? 'block' : 'none';\n",
              "    })();\n",
              "  </script>\n",
              "</div>\n",
              "    </div>\n",
              "  </div>\n"
            ],
            "application/vnd.google.colaboratory.intrinsic+json": {
              "type": "dataframe",
              "variable_name": "df_spotify",
              "summary": "{\n  \"name\": \"df_spotify\",\n  \"rows\": 646,\n  \"fields\": [\n    {\n      \"column\": \"uri\",\n      \"properties\": {\n        \"dtype\": \"string\",\n        \"num_unique_values\": 646,\n        \"samples\": [\n          \"spotify:track:1NlK2NtpuUazpziLhnJwEV\",\n          \"spotify:track:5VTjBl3ddZEiG2LrH4VzyR\",\n          \"spotify:track:7sMBvZCSUl99bJLXZaLa0b\"\n        ],\n        \"semantic_type\": \"\",\n        \"description\": \"\"\n      }\n    },\n    {\n      \"column\": \"artist_names\",\n      \"properties\": {\n        \"dtype\": \"string\",\n        \"num_unique_values\": 435,\n        \"samples\": [\n          \"Giveon\",\n          \"Kodak Black\",\n          \"Eminem, Nate Dogg\"\n        ],\n        \"semantic_type\": \"\",\n        \"description\": \"\"\n      }\n    },\n    {\n      \"column\": \"track_name\",\n      \"properties\": {\n        \"dtype\": \"string\",\n        \"num_unique_values\": 646,\n        \"samples\": [\n          \"Phantom Regret by Jim\",\n          \"Toma Toma Vapo Vapo\",\n          \"Smokin Out The Window\"\n        ],\n        \"semantic_type\": \"\",\n        \"description\": \"\"\n      }\n    },\n    {\n      \"column\": \"peak_rank\",\n      \"properties\": {\n        \"dtype\": \"number\",\n        \"std\": 57,\n        \"min\": 1,\n        \"max\": 200,\n        \"num_unique_values\": 183,\n        \"samples\": [\n          29,\n          51,\n          82\n        ],\n        \"semantic_type\": \"\",\n        \"description\": \"\"\n      }\n    },\n    {\n      \"column\": \"weeks_on_chart\",\n      \"properties\": {\n        \"dtype\": \"number\",\n        \"std\": 37,\n        \"min\": 1,\n        \"max\": 269,\n        \"num_unique_values\": 98,\n        \"samples\": [\n          182,\n          8,\n          81\n        ],\n        \"semantic_type\": \"\",\n        \"description\": \"\"\n      }\n    },\n    {\n      \"column\": \"danceability\",\n      \"properties\": {\n        \"dtype\": \"number\",\n        \"std\": 0.1515269256572125,\n        \"min\": 0.193,\n        \"max\": 0.985,\n        \"num_unique_values\": 386,\n        \"samples\": [\n          0.467,\n          0.724,\n          0.542\n        ],\n        \"semantic_type\": \"\",\n        \"description\": \"\"\n      }\n    },\n    {\n      \"column\": \"energy\",\n      \"properties\": {\n        \"dtype\": \"number\",\n        \"std\": 0.16547844741798712,\n        \"min\": 0.0218,\n        \"max\": 0.972,\n        \"num_unique_values\": 398,\n        \"samples\": [\n          0.546,\n          0.785,\n          0.692\n        ],\n        \"semantic_type\": \"\",\n        \"description\": \"\"\n      }\n    },\n    {\n      \"column\": \"key\",\n      \"properties\": {\n        \"dtype\": \"number\",\n        \"std\": 3,\n        \"min\": 0,\n        \"max\": 11,\n        \"num_unique_values\": 12,\n        \"samples\": [\n          0,\n          9,\n          11\n        ],\n        \"semantic_type\": \"\",\n        \"description\": \"\"\n      }\n    },\n    {\n      \"column\": \"loudness\",\n      \"properties\": {\n        \"dtype\": \"number\",\n        \"std\": 2.6274620504862454,\n        \"min\": -31.16,\n        \"max\": -0.514,\n        \"num_unique_values\": 618,\n        \"samples\": [\n          -4.598,\n          -7.069,\n          -3.726\n        ],\n        \"semantic_type\": \"\",\n        \"description\": \"\"\n      }\n    },\n    {\n      \"column\": \"mode\",\n      \"properties\": {\n        \"dtype\": \"number\",\n        \"std\": 0,\n        \"min\": 0,\n        \"max\": 1,\n        \"num_unique_values\": 2,\n        \"samples\": [\n          0,\n          1\n        ],\n        \"semantic_type\": \"\",\n        \"description\": \"\"\n      }\n    },\n    {\n      \"column\": \"speechiness\",\n      \"properties\": {\n        \"dtype\": \"number\",\n        \"std\": 0.10216669420078527,\n        \"min\": 0.0232,\n        \"max\": 0.611,\n        \"num_unique_values\": 467,\n        \"samples\": [\n          0.0544,\n          0.0426\n        ],\n        \"semantic_type\": \"\",\n        \"description\": \"\"\n      }\n    },\n    {\n      \"column\": \"acousticness\",\n      \"properties\": {\n        \"dtype\": \"number\",\n        \"std\": 0.26259539611309807,\n        \"min\": 1.68e-05,\n        \"max\": 0.969,\n        \"num_unique_values\": 528,\n        \"samples\": [\n          0.69,\n          0.289\n        ],\n        \"semantic_type\": \"\",\n        \"description\": \"\"\n      }\n    },\n    {\n      \"column\": \"instrumentalness\",\n      \"properties\": {\n        \"dtype\": \"number\",\n        \"std\": 0.07783622481781376,\n        \"min\": 0.0,\n        \"max\": 0.908,\n        \"num_unique_values\": 317,\n        \"samples\": [\n          1.65e-06,\n          1.04e-05\n        ],\n        \"semantic_type\": \"\",\n        \"description\": \"\"\n      }\n    },\n    {\n      \"column\": \"liveness\",\n      \"properties\": {\n        \"dtype\": \"number\",\n        \"std\": 0.13379195995271023,\n        \"min\": 0.0264,\n        \"max\": 0.968,\n        \"num_unique_values\": 386,\n        \"samples\": [\n          0.224,\n          0.089\n        ],\n        \"semantic_type\": \"\",\n        \"description\": \"\"\n      }\n    },\n    {\n      \"column\": \"tempo\",\n      \"properties\": {\n        \"dtype\": \"number\",\n        \"std\": 28.267950625646552,\n        \"min\": 66.165,\n        \"max\": 205.863,\n        \"num_unique_values\": 634,\n        \"samples\": [\n          95.004,\n          113.26\n        ],\n        \"semantic_type\": \"\",\n        \"description\": \"\"\n      }\n    },\n    {\n      \"column\": \"time_signature\",\n      \"properties\": {\n        \"dtype\": \"number\",\n        \"std\": 0,\n        \"min\": 1,\n        \"max\": 5,\n        \"num_unique_values\": 4,\n        \"samples\": [\n          3,\n          5\n        ],\n        \"semantic_type\": \"\",\n        \"description\": \"\"\n      }\n    },\n    {\n      \"column\": \"duration_ms\",\n      \"properties\": {\n        \"dtype\": \"number\",\n        \"std\": 54966,\n        \"min\": 36935,\n        \"max\": 613027,\n        \"num_unique_values\": 634,\n        \"samples\": [\n          214000,\n          241067\n        ],\n        \"semantic_type\": \"\",\n        \"description\": \"\"\n      }\n    }\n  ]\n}"
            }
          },
          "metadata": {},
          "execution_count": 3
        }
      ]
    },
    {
      "cell_type": "code",
      "source": [
        "merged_df = pd.merge(df_tiktok, df_spotify, on='track_name')"
      ],
      "metadata": {
        "id": "eZxlQ3tb2U7m"
      },
      "execution_count": 4,
      "outputs": []
    },
    {
      "cell_type": "code",
      "source": [
        "merged_df"
      ],
      "metadata": {
        "colab": {
          "base_uri": "https://localhost:8080/",
          "height": 617
        },
        "id": "3nLpofiV2qNT",
        "outputId": "99eb50b6-a319-40b3-90e0-0744cf5baaba"
      },
      "execution_count": 5,
      "outputs": [
        {
          "output_type": "execute_result",
          "data": {
            "text/plain": [
              "                                track_name     artist_name  artist_pop  \\\n",
              "0   Running Up That Hill (A Deal With God)       Kate Bush          81   \n",
              "1                                As It Was    Harry Styles          91   \n",
              "2                                As It Was  Michael Shynes          52   \n",
              "3                                  Sunroof     Nicky Youre          73   \n",
              "4                               Heat Waves   Glass Animals          80   \n",
              "..                                     ...             ...         ...   \n",
              "80                                Payphone     Faruk Orman          43   \n",
              "81                                  Demons             CPX          52   \n",
              "82                              Without Me          Halsey          83   \n",
              "83                              Dandelions         Ruth B.          75   \n",
              "84           Jimmy Cooks (feat. 21 Savage)           Drake          95   \n",
              "\n",
              "                         album  track_pop  danceability_x  energy_x  \\\n",
              "0               Hounds Of Love         95           0.629     0.547   \n",
              "1                    As It Was         96           0.520     0.731   \n",
              "2                    As It Was         46           0.595     0.812   \n",
              "3                      Sunroof         44           0.768     0.716   \n",
              "4   Dreamland (+ Bonus Levels)         89           0.761     0.525   \n",
              "..                         ...        ...             ...       ...   \n",
              "80                    Payphone         45           0.721     0.707   \n",
              "81                      Demons         56           0.700     0.848   \n",
              "82                  Without Me         77           0.752     0.488   \n",
              "83                  Safe Haven         90           0.609     0.692   \n",
              "84         Honestly, Nevermind         92           0.529     0.673   \n",
              "\n",
              "    loudness_x  mode_x  key_x  ...  key_y  loudness_y  mode_y  speechiness_y  \\\n",
              "0      -13.123       0     10  ...     10     -13.123       0         0.0550   \n",
              "1       -5.338       0      6  ...      6      -5.338       0         0.0557   \n",
              "2       -5.623       1      9  ...      6      -5.338       0         0.0557   \n",
              "3       -5.110       1     10  ...     10      -5.110       1         0.0401   \n",
              "4       -6.900       1     11  ...     11      -6.900       1         0.0944   \n",
              "..         ...     ...    ...  ...    ...         ...     ...            ...   \n",
              "80      -7.953       1     11  ...      4      -4.813       1         0.0414   \n",
              "81      -5.473       1      8  ...      3      -3.015       1         0.0321   \n",
              "82      -7.050       1      6  ...      7      -2.827       1         0.0738   \n",
              "83      -2.958       1      1  ...      1      -2.958       1         0.0259   \n",
              "84      -4.711       1      0  ...      0      -4.711       1         0.1750   \n",
              "\n",
              "    acousticness_y  instrumentalness_y  liveness_y  tempo_y time_signature_y  \\\n",
              "0         0.720000            0.003140      0.0604  108.375                4   \n",
              "1         0.342000            0.001010      0.3110  173.930                4   \n",
              "2         0.342000            0.001010      0.3110  173.930                4   \n",
              "3         0.352000            0.000000      0.1500  131.443                4   \n",
              "4         0.440000            0.000007      0.0921   80.870                4   \n",
              "..             ...                 ...         ...      ...              ...   \n",
              "80        0.018800            0.000000      0.2870  110.015                4   \n",
              "81        0.190000            0.000250      0.2690   89.938                4   \n",
              "82        0.002860            0.000000      0.2370  112.238                4   \n",
              "83        0.015700            0.000000      0.0864  116.959                3   \n",
              "84        0.000307            0.000002      0.0930  165.921                4   \n",
              "\n",
              "   duration_ms_y  \n",
              "0         298933  \n",
              "1         167303  \n",
              "2         167303  \n",
              "3         163026  \n",
              "4         238805  \n",
              "..           ...  \n",
              "80        231173  \n",
              "81        177507  \n",
              "82        290320  \n",
              "83        233720  \n",
              "84        218365  \n",
              "\n",
              "[85 rows x 34 columns]"
            ],
            "text/html": [
              "\n",
              "  <div id=\"df-f152b630-264e-4b1b-9b1d-2f64c0d42bf2\" class=\"colab-df-container\">\n",
              "    <div>\n",
              "<style scoped>\n",
              "    .dataframe tbody tr th:only-of-type {\n",
              "        vertical-align: middle;\n",
              "    }\n",
              "\n",
              "    .dataframe tbody tr th {\n",
              "        vertical-align: top;\n",
              "    }\n",
              "\n",
              "    .dataframe thead th {\n",
              "        text-align: right;\n",
              "    }\n",
              "</style>\n",
              "<table border=\"1\" class=\"dataframe\">\n",
              "  <thead>\n",
              "    <tr style=\"text-align: right;\">\n",
              "      <th></th>\n",
              "      <th>track_name</th>\n",
              "      <th>artist_name</th>\n",
              "      <th>artist_pop</th>\n",
              "      <th>album</th>\n",
              "      <th>track_pop</th>\n",
              "      <th>danceability_x</th>\n",
              "      <th>energy_x</th>\n",
              "      <th>loudness_x</th>\n",
              "      <th>mode_x</th>\n",
              "      <th>key_x</th>\n",
              "      <th>...</th>\n",
              "      <th>key_y</th>\n",
              "      <th>loudness_y</th>\n",
              "      <th>mode_y</th>\n",
              "      <th>speechiness_y</th>\n",
              "      <th>acousticness_y</th>\n",
              "      <th>instrumentalness_y</th>\n",
              "      <th>liveness_y</th>\n",
              "      <th>tempo_y</th>\n",
              "      <th>time_signature_y</th>\n",
              "      <th>duration_ms_y</th>\n",
              "    </tr>\n",
              "  </thead>\n",
              "  <tbody>\n",
              "    <tr>\n",
              "      <th>0</th>\n",
              "      <td>Running Up That Hill (A Deal With God)</td>\n",
              "      <td>Kate Bush</td>\n",
              "      <td>81</td>\n",
              "      <td>Hounds Of Love</td>\n",
              "      <td>95</td>\n",
              "      <td>0.629</td>\n",
              "      <td>0.547</td>\n",
              "      <td>-13.123</td>\n",
              "      <td>0</td>\n",
              "      <td>10</td>\n",
              "      <td>...</td>\n",
              "      <td>10</td>\n",
              "      <td>-13.123</td>\n",
              "      <td>0</td>\n",
              "      <td>0.0550</td>\n",
              "      <td>0.720000</td>\n",
              "      <td>0.003140</td>\n",
              "      <td>0.0604</td>\n",
              "      <td>108.375</td>\n",
              "      <td>4</td>\n",
              "      <td>298933</td>\n",
              "    </tr>\n",
              "    <tr>\n",
              "      <th>1</th>\n",
              "      <td>As It Was</td>\n",
              "      <td>Harry Styles</td>\n",
              "      <td>91</td>\n",
              "      <td>As It Was</td>\n",
              "      <td>96</td>\n",
              "      <td>0.520</td>\n",
              "      <td>0.731</td>\n",
              "      <td>-5.338</td>\n",
              "      <td>0</td>\n",
              "      <td>6</td>\n",
              "      <td>...</td>\n",
              "      <td>6</td>\n",
              "      <td>-5.338</td>\n",
              "      <td>0</td>\n",
              "      <td>0.0557</td>\n",
              "      <td>0.342000</td>\n",
              "      <td>0.001010</td>\n",
              "      <td>0.3110</td>\n",
              "      <td>173.930</td>\n",
              "      <td>4</td>\n",
              "      <td>167303</td>\n",
              "    </tr>\n",
              "    <tr>\n",
              "      <th>2</th>\n",
              "      <td>As It Was</td>\n",
              "      <td>Michael Shynes</td>\n",
              "      <td>52</td>\n",
              "      <td>As It Was</td>\n",
              "      <td>46</td>\n",
              "      <td>0.595</td>\n",
              "      <td>0.812</td>\n",
              "      <td>-5.623</td>\n",
              "      <td>1</td>\n",
              "      <td>9</td>\n",
              "      <td>...</td>\n",
              "      <td>6</td>\n",
              "      <td>-5.338</td>\n",
              "      <td>0</td>\n",
              "      <td>0.0557</td>\n",
              "      <td>0.342000</td>\n",
              "      <td>0.001010</td>\n",
              "      <td>0.3110</td>\n",
              "      <td>173.930</td>\n",
              "      <td>4</td>\n",
              "      <td>167303</td>\n",
              "    </tr>\n",
              "    <tr>\n",
              "      <th>3</th>\n",
              "      <td>Sunroof</td>\n",
              "      <td>Nicky Youre</td>\n",
              "      <td>73</td>\n",
              "      <td>Sunroof</td>\n",
              "      <td>44</td>\n",
              "      <td>0.768</td>\n",
              "      <td>0.716</td>\n",
              "      <td>-5.110</td>\n",
              "      <td>1</td>\n",
              "      <td>10</td>\n",
              "      <td>...</td>\n",
              "      <td>10</td>\n",
              "      <td>-5.110</td>\n",
              "      <td>1</td>\n",
              "      <td>0.0401</td>\n",
              "      <td>0.352000</td>\n",
              "      <td>0.000000</td>\n",
              "      <td>0.1500</td>\n",
              "      <td>131.443</td>\n",
              "      <td>4</td>\n",
              "      <td>163026</td>\n",
              "    </tr>\n",
              "    <tr>\n",
              "      <th>4</th>\n",
              "      <td>Heat Waves</td>\n",
              "      <td>Glass Animals</td>\n",
              "      <td>80</td>\n",
              "      <td>Dreamland (+ Bonus Levels)</td>\n",
              "      <td>89</td>\n",
              "      <td>0.761</td>\n",
              "      <td>0.525</td>\n",
              "      <td>-6.900</td>\n",
              "      <td>1</td>\n",
              "      <td>11</td>\n",
              "      <td>...</td>\n",
              "      <td>11</td>\n",
              "      <td>-6.900</td>\n",
              "      <td>1</td>\n",
              "      <td>0.0944</td>\n",
              "      <td>0.440000</td>\n",
              "      <td>0.000007</td>\n",
              "      <td>0.0921</td>\n",
              "      <td>80.870</td>\n",
              "      <td>4</td>\n",
              "      <td>238805</td>\n",
              "    </tr>\n",
              "    <tr>\n",
              "      <th>...</th>\n",
              "      <td>...</td>\n",
              "      <td>...</td>\n",
              "      <td>...</td>\n",
              "      <td>...</td>\n",
              "      <td>...</td>\n",
              "      <td>...</td>\n",
              "      <td>...</td>\n",
              "      <td>...</td>\n",
              "      <td>...</td>\n",
              "      <td>...</td>\n",
              "      <td>...</td>\n",
              "      <td>...</td>\n",
              "      <td>...</td>\n",
              "      <td>...</td>\n",
              "      <td>...</td>\n",
              "      <td>...</td>\n",
              "      <td>...</td>\n",
              "      <td>...</td>\n",
              "      <td>...</td>\n",
              "      <td>...</td>\n",
              "      <td>...</td>\n",
              "    </tr>\n",
              "    <tr>\n",
              "      <th>80</th>\n",
              "      <td>Payphone</td>\n",
              "      <td>Faruk Orman</td>\n",
              "      <td>43</td>\n",
              "      <td>Payphone</td>\n",
              "      <td>45</td>\n",
              "      <td>0.721</td>\n",
              "      <td>0.707</td>\n",
              "      <td>-7.953</td>\n",
              "      <td>1</td>\n",
              "      <td>11</td>\n",
              "      <td>...</td>\n",
              "      <td>4</td>\n",
              "      <td>-4.813</td>\n",
              "      <td>1</td>\n",
              "      <td>0.0414</td>\n",
              "      <td>0.018800</td>\n",
              "      <td>0.000000</td>\n",
              "      <td>0.2870</td>\n",
              "      <td>110.015</td>\n",
              "      <td>4</td>\n",
              "      <td>231173</td>\n",
              "    </tr>\n",
              "    <tr>\n",
              "      <th>81</th>\n",
              "      <td>Demons</td>\n",
              "      <td>CPX</td>\n",
              "      <td>52</td>\n",
              "      <td>Demons</td>\n",
              "      <td>56</td>\n",
              "      <td>0.700</td>\n",
              "      <td>0.848</td>\n",
              "      <td>-5.473</td>\n",
              "      <td>1</td>\n",
              "      <td>8</td>\n",
              "      <td>...</td>\n",
              "      <td>3</td>\n",
              "      <td>-3.015</td>\n",
              "      <td>1</td>\n",
              "      <td>0.0321</td>\n",
              "      <td>0.190000</td>\n",
              "      <td>0.000250</td>\n",
              "      <td>0.2690</td>\n",
              "      <td>89.938</td>\n",
              "      <td>4</td>\n",
              "      <td>177507</td>\n",
              "    </tr>\n",
              "    <tr>\n",
              "      <th>82</th>\n",
              "      <td>Without Me</td>\n",
              "      <td>Halsey</td>\n",
              "      <td>83</td>\n",
              "      <td>Without Me</td>\n",
              "      <td>77</td>\n",
              "      <td>0.752</td>\n",
              "      <td>0.488</td>\n",
              "      <td>-7.050</td>\n",
              "      <td>1</td>\n",
              "      <td>6</td>\n",
              "      <td>...</td>\n",
              "      <td>7</td>\n",
              "      <td>-2.827</td>\n",
              "      <td>1</td>\n",
              "      <td>0.0738</td>\n",
              "      <td>0.002860</td>\n",
              "      <td>0.000000</td>\n",
              "      <td>0.2370</td>\n",
              "      <td>112.238</td>\n",
              "      <td>4</td>\n",
              "      <td>290320</td>\n",
              "    </tr>\n",
              "    <tr>\n",
              "      <th>83</th>\n",
              "      <td>Dandelions</td>\n",
              "      <td>Ruth B.</td>\n",
              "      <td>75</td>\n",
              "      <td>Safe Haven</td>\n",
              "      <td>90</td>\n",
              "      <td>0.609</td>\n",
              "      <td>0.692</td>\n",
              "      <td>-2.958</td>\n",
              "      <td>1</td>\n",
              "      <td>1</td>\n",
              "      <td>...</td>\n",
              "      <td>1</td>\n",
              "      <td>-2.958</td>\n",
              "      <td>1</td>\n",
              "      <td>0.0259</td>\n",
              "      <td>0.015700</td>\n",
              "      <td>0.000000</td>\n",
              "      <td>0.0864</td>\n",
              "      <td>116.959</td>\n",
              "      <td>3</td>\n",
              "      <td>233720</td>\n",
              "    </tr>\n",
              "    <tr>\n",
              "      <th>84</th>\n",
              "      <td>Jimmy Cooks (feat. 21 Savage)</td>\n",
              "      <td>Drake</td>\n",
              "      <td>95</td>\n",
              "      <td>Honestly, Nevermind</td>\n",
              "      <td>92</td>\n",
              "      <td>0.529</td>\n",
              "      <td>0.673</td>\n",
              "      <td>-4.711</td>\n",
              "      <td>1</td>\n",
              "      <td>0</td>\n",
              "      <td>...</td>\n",
              "      <td>0</td>\n",
              "      <td>-4.711</td>\n",
              "      <td>1</td>\n",
              "      <td>0.1750</td>\n",
              "      <td>0.000307</td>\n",
              "      <td>0.000002</td>\n",
              "      <td>0.0930</td>\n",
              "      <td>165.921</td>\n",
              "      <td>4</td>\n",
              "      <td>218365</td>\n",
              "    </tr>\n",
              "  </tbody>\n",
              "</table>\n",
              "<p>85 rows × 34 columns</p>\n",
              "</div>\n",
              "    <div class=\"colab-df-buttons\">\n",
              "\n",
              "  <div class=\"colab-df-container\">\n",
              "    <button class=\"colab-df-convert\" onclick=\"convertToInteractive('df-f152b630-264e-4b1b-9b1d-2f64c0d42bf2')\"\n",
              "            title=\"Convert this dataframe to an interactive table.\"\n",
              "            style=\"display:none;\">\n",
              "\n",
              "  <svg xmlns=\"http://www.w3.org/2000/svg\" height=\"24px\" viewBox=\"0 -960 960 960\">\n",
              "    <path d=\"M120-120v-720h720v720H120Zm60-500h600v-160H180v160Zm220 220h160v-160H400v160Zm0 220h160v-160H400v160ZM180-400h160v-160H180v160Zm440 0h160v-160H620v160ZM180-180h160v-160H180v160Zm440 0h160v-160H620v160Z\"/>\n",
              "  </svg>\n",
              "    </button>\n",
              "\n",
              "  <style>\n",
              "    .colab-df-container {\n",
              "      display:flex;\n",
              "      gap: 12px;\n",
              "    }\n",
              "\n",
              "    .colab-df-convert {\n",
              "      background-color: #E8F0FE;\n",
              "      border: none;\n",
              "      border-radius: 50%;\n",
              "      cursor: pointer;\n",
              "      display: none;\n",
              "      fill: #1967D2;\n",
              "      height: 32px;\n",
              "      padding: 0 0 0 0;\n",
              "      width: 32px;\n",
              "    }\n",
              "\n",
              "    .colab-df-convert:hover {\n",
              "      background-color: #E2EBFA;\n",
              "      box-shadow: 0px 1px 2px rgba(60, 64, 67, 0.3), 0px 1px 3px 1px rgba(60, 64, 67, 0.15);\n",
              "      fill: #174EA6;\n",
              "    }\n",
              "\n",
              "    .colab-df-buttons div {\n",
              "      margin-bottom: 4px;\n",
              "    }\n",
              "\n",
              "    [theme=dark] .colab-df-convert {\n",
              "      background-color: #3B4455;\n",
              "      fill: #D2E3FC;\n",
              "    }\n",
              "\n",
              "    [theme=dark] .colab-df-convert:hover {\n",
              "      background-color: #434B5C;\n",
              "      box-shadow: 0px 1px 3px 1px rgba(0, 0, 0, 0.15);\n",
              "      filter: drop-shadow(0px 1px 2px rgba(0, 0, 0, 0.3));\n",
              "      fill: #FFFFFF;\n",
              "    }\n",
              "  </style>\n",
              "\n",
              "    <script>\n",
              "      const buttonEl =\n",
              "        document.querySelector('#df-f152b630-264e-4b1b-9b1d-2f64c0d42bf2 button.colab-df-convert');\n",
              "      buttonEl.style.display =\n",
              "        google.colab.kernel.accessAllowed ? 'block' : 'none';\n",
              "\n",
              "      async function convertToInteractive(key) {\n",
              "        const element = document.querySelector('#df-f152b630-264e-4b1b-9b1d-2f64c0d42bf2');\n",
              "        const dataTable =\n",
              "          await google.colab.kernel.invokeFunction('convertToInteractive',\n",
              "                                                    [key], {});\n",
              "        if (!dataTable) return;\n",
              "\n",
              "        const docLinkHtml = 'Like what you see? Visit the ' +\n",
              "          '<a target=\"_blank\" href=https://colab.research.google.com/notebooks/data_table.ipynb>data table notebook</a>'\n",
              "          + ' to learn more about interactive tables.';\n",
              "        element.innerHTML = '';\n",
              "        dataTable['output_type'] = 'display_data';\n",
              "        await google.colab.output.renderOutput(dataTable, element);\n",
              "        const docLink = document.createElement('div');\n",
              "        docLink.innerHTML = docLinkHtml;\n",
              "        element.appendChild(docLink);\n",
              "      }\n",
              "    </script>\n",
              "  </div>\n",
              "\n",
              "\n",
              "<div id=\"df-beb1ad96-f4d5-40e9-ac35-5648689d3690\">\n",
              "  <button class=\"colab-df-quickchart\" onclick=\"quickchart('df-beb1ad96-f4d5-40e9-ac35-5648689d3690')\"\n",
              "            title=\"Suggest charts\"\n",
              "            style=\"display:none;\">\n",
              "\n",
              "<svg xmlns=\"http://www.w3.org/2000/svg\" height=\"24px\"viewBox=\"0 0 24 24\"\n",
              "     width=\"24px\">\n",
              "    <g>\n",
              "        <path d=\"M19 3H5c-1.1 0-2 .9-2 2v14c0 1.1.9 2 2 2h14c1.1 0 2-.9 2-2V5c0-1.1-.9-2-2-2zM9 17H7v-7h2v7zm4 0h-2V7h2v10zm4 0h-2v-4h2v4z\"/>\n",
              "    </g>\n",
              "</svg>\n",
              "  </button>\n",
              "\n",
              "<style>\n",
              "  .colab-df-quickchart {\n",
              "      --bg-color: #E8F0FE;\n",
              "      --fill-color: #1967D2;\n",
              "      --hover-bg-color: #E2EBFA;\n",
              "      --hover-fill-color: #174EA6;\n",
              "      --disabled-fill-color: #AAA;\n",
              "      --disabled-bg-color: #DDD;\n",
              "  }\n",
              "\n",
              "  [theme=dark] .colab-df-quickchart {\n",
              "      --bg-color: #3B4455;\n",
              "      --fill-color: #D2E3FC;\n",
              "      --hover-bg-color: #434B5C;\n",
              "      --hover-fill-color: #FFFFFF;\n",
              "      --disabled-bg-color: #3B4455;\n",
              "      --disabled-fill-color: #666;\n",
              "  }\n",
              "\n",
              "  .colab-df-quickchart {\n",
              "    background-color: var(--bg-color);\n",
              "    border: none;\n",
              "    border-radius: 50%;\n",
              "    cursor: pointer;\n",
              "    display: none;\n",
              "    fill: var(--fill-color);\n",
              "    height: 32px;\n",
              "    padding: 0;\n",
              "    width: 32px;\n",
              "  }\n",
              "\n",
              "  .colab-df-quickchart:hover {\n",
              "    background-color: var(--hover-bg-color);\n",
              "    box-shadow: 0 1px 2px rgba(60, 64, 67, 0.3), 0 1px 3px 1px rgba(60, 64, 67, 0.15);\n",
              "    fill: var(--button-hover-fill-color);\n",
              "  }\n",
              "\n",
              "  .colab-df-quickchart-complete:disabled,\n",
              "  .colab-df-quickchart-complete:disabled:hover {\n",
              "    background-color: var(--disabled-bg-color);\n",
              "    fill: var(--disabled-fill-color);\n",
              "    box-shadow: none;\n",
              "  }\n",
              "\n",
              "  .colab-df-spinner {\n",
              "    border: 2px solid var(--fill-color);\n",
              "    border-color: transparent;\n",
              "    border-bottom-color: var(--fill-color);\n",
              "    animation:\n",
              "      spin 1s steps(1) infinite;\n",
              "  }\n",
              "\n",
              "  @keyframes spin {\n",
              "    0% {\n",
              "      border-color: transparent;\n",
              "      border-bottom-color: var(--fill-color);\n",
              "      border-left-color: var(--fill-color);\n",
              "    }\n",
              "    20% {\n",
              "      border-color: transparent;\n",
              "      border-left-color: var(--fill-color);\n",
              "      border-top-color: var(--fill-color);\n",
              "    }\n",
              "    30% {\n",
              "      border-color: transparent;\n",
              "      border-left-color: var(--fill-color);\n",
              "      border-top-color: var(--fill-color);\n",
              "      border-right-color: var(--fill-color);\n",
              "    }\n",
              "    40% {\n",
              "      border-color: transparent;\n",
              "      border-right-color: var(--fill-color);\n",
              "      border-top-color: var(--fill-color);\n",
              "    }\n",
              "    60% {\n",
              "      border-color: transparent;\n",
              "      border-right-color: var(--fill-color);\n",
              "    }\n",
              "    80% {\n",
              "      border-color: transparent;\n",
              "      border-right-color: var(--fill-color);\n",
              "      border-bottom-color: var(--fill-color);\n",
              "    }\n",
              "    90% {\n",
              "      border-color: transparent;\n",
              "      border-bottom-color: var(--fill-color);\n",
              "    }\n",
              "  }\n",
              "</style>\n",
              "\n",
              "  <script>\n",
              "    async function quickchart(key) {\n",
              "      const quickchartButtonEl =\n",
              "        document.querySelector('#' + key + ' button');\n",
              "      quickchartButtonEl.disabled = true;  // To prevent multiple clicks.\n",
              "      quickchartButtonEl.classList.add('colab-df-spinner');\n",
              "      try {\n",
              "        const charts = await google.colab.kernel.invokeFunction(\n",
              "            'suggestCharts', [key], {});\n",
              "      } catch (error) {\n",
              "        console.error('Error during call to suggestCharts:', error);\n",
              "      }\n",
              "      quickchartButtonEl.classList.remove('colab-df-spinner');\n",
              "      quickchartButtonEl.classList.add('colab-df-quickchart-complete');\n",
              "    }\n",
              "    (() => {\n",
              "      let quickchartButtonEl =\n",
              "        document.querySelector('#df-beb1ad96-f4d5-40e9-ac35-5648689d3690 button');\n",
              "      quickchartButtonEl.style.display =\n",
              "        google.colab.kernel.accessAllowed ? 'block' : 'none';\n",
              "    })();\n",
              "  </script>\n",
              "</div>\n",
              "    </div>\n",
              "  </div>\n"
            ],
            "application/vnd.google.colaboratory.intrinsic+json": {
              "type": "dataframe",
              "variable_name": "merged_df"
            }
          },
          "metadata": {},
          "execution_count": 5
        }
      ]
    },
    {
      "cell_type": "code",
      "source": [
        "#Track popularity seems positively correlated to danceability\n",
        "\n",
        "merged_df.plot.scatter(x='track_pop', y='danceability_y', color='purple', title='Danceability Vs Popularity', xlabel='TikTok Popularity', ylabel=\"Danceability\")\n"
      ],
      "metadata": {
        "colab": {
          "base_uri": "https://localhost:8080/",
          "height": 489
        },
        "id": "UCDqSSDg2tGV",
        "outputId": "94836b87-f45d-4a9e-f5a8-e4575d283069"
      },
      "execution_count": 6,
      "outputs": [
        {
          "output_type": "execute_result",
          "data": {
            "text/plain": [
              "<Axes: title={'center': 'Danceability Vs Popularity'}, xlabel='TikTok Popularity', ylabel='Danceability'>"
            ]
          },
          "metadata": {},
          "execution_count": 6
        },
        {
          "output_type": "display_data",
          "data": {
            "text/plain": [
              "<Figure size 640x480 with 1 Axes>"
            ],
            "image/png": "[encoded data removed]"
          },
          "metadata": {}
        }
      ]
    },
    {
      "cell_type": "code",
      "source": [
        "#Track popularity seems positively correlated to danceability\n",
        "\n",
        "merged_df.plot.scatter(x='track_pop', y='energy_y', color='blue', title='Energy Vs Popularity', xlabel='TikTok Popularity', ylabel=\"Energy\")\n"
      ],
      "metadata": {
        "colab": {
          "base_uri": "https://localhost:8080/",
          "height": 489
        },
        "id": "pk90IMjN0r9i",
        "outputId": "f61c951b-805a-41ea-8757-7e93273bf2eb"
      },
      "execution_count": 7,
      "outputs": [
        {
          "output_type": "execute_result",
          "data": {
            "text/plain": [
              "<Axes: title={'center': 'Energy Vs Popularity'}, xlabel='TikTok Popularity', ylabel='Energy'>"
            ]
          },
          "metadata": {},
          "execution_count": 7
        },
        {
          "output_type": "display_data",
          "data": {
            "text/plain": [
              "<Figure size 640x480 with 1 Axes>"
            ],
            "image/png": "[encoded data removed]"
          },
          "metadata": {}
        }
      ]
    },
    {
      "cell_type": "code",
      "source": [],
      "metadata": {
        "id": "cxK7DfIH0NIr"
      },
      "execution_count": 7,
      "outputs": []
    },
    {
      "cell_type": "code",
      "source": [
        "#Peak rank and Track Popularity appear to be highly correlated\n",
        "\n",
        "merged_df.plot.scatter(y='peak_rank', x='track_pop', color='violet', title='Peak Rank Vs Popularity', xlabel='Tiktok Popularity', ylabel='Peak Rank on Spotify')"
      ],
      "metadata": {
        "colab": {
          "base_uri": "https://localhost:8080/",
          "height": 489
        },
        "id": "9-kMsk9T3eH3",
        "outputId": "07fbb904-7bc2-4276-f897-4100cb73e2d3"
      },
      "execution_count": 8,
      "outputs": [
        {
          "output_type": "execute_result",
          "data": {
            "text/plain": [
              "<Axes: title={'center': 'Peak Rank Vs Popularity'}, xlabel='Tiktok Popularity', ylabel='Peak Rank on Spotify'>"
            ]
          },
          "metadata": {},
          "execution_count": 8
        },
        {
          "output_type": "display_data",
          "data": {
            "text/plain": [
              "<Figure size 640x480 with 1 Axes>"
            ],
            "image/png": "[encoded data removed]"
          },
          "metadata": {}
        }
      ]
    },
    {
      "cell_type": "code",
      "source": [],
      "metadata": {
        "id": "FrdSB4Ap0jjz"
      },
      "execution_count": 8,
      "outputs": []
    },
    {
      "cell_type": "code",
      "source": [
        "#Weeks on chart and Track popularity are related but not strongly correlated\n",
        "\n",
        "merged_df.plot.scatter(y='weeks_on_chart', x='track_pop', color='indigo', xlabel=\"Tiktok Popularity\", ylabel=\"Weeks on Spotify Charts\", title=\"Weeks on Chart Vs Track Popularity\")"
      ],
      "metadata": {
        "colab": {
          "base_uri": "https://localhost:8080/",
          "height": 489
        },
        "id": "ZS8UjCvs4i5m",
        "outputId": "ec86c630-bafe-4c33-c204-97df963b6a19"
      },
      "execution_count": 9,
      "outputs": [
        {
          "output_type": "execute_result",
          "data": {
            "text/plain": [
              "<Axes: title={'center': 'Weeks on Chart Vs Track Popularity'}, xlabel='Tiktok Popularity', ylabel='Weeks on Spotify Charts'>"
            ]
          },
          "metadata": {},
          "execution_count": 9
        },
        {
          "output_type": "display_data",
          "data": {
            "text/plain": [
              "<Figure size 640x480 with 1 Axes>"
            ],
            "image/png": "[encoded data removed]"
          },
          "metadata": {}
        }
      ]
    },
    {
      "cell_type": "code",
      "source": [
        "#Correlation Matrix\n",
        "\n",
        "import pandas as pd\n",
        "from scipy.stats import pearsonr\n",
        "import matplotlib.pyplot as plt\n",
        "import seaborn as sns\n",
        "\n",
        "# Select common audio features for correlation analysis\n",
        "audio_features_spotify = ['peak_rank', 'weeks_on_chart']\n",
        "audio_features_tiktok = ['track_pop']\n",
        "\n",
        "# Display correlation matrix for selected features\n",
        "correlation_matrix = merged_df[audio_features_spotify + audio_features_tiktok].corr()\n",
        "print(\"Correlation Matrix:\")\n",
        "print(correlation_matrix)\n",
        "\n",
        "# Find highly correlated variables\n",
        "threshold = 0.7  # Adjust the threshold as needed\n",
        "highly_correlated = (correlation_matrix.abs() > threshold) & (correlation_matrix.abs() < 1)\n",
        "\n",
        "# Display pairs of highly correlated variables\n",
        "print(\"\\nPairs of Highly Correlated Variables:\")\n",
        "print(highly_correlated)\n",
        "\n",
        "# Plot heatmap\n",
        "plt.figure(figsize=(10, 8))\n",
        "sns.heatmap(correlation_matrix, annot=True, cmap='coolwarm', fmt=\".2f\", linewidths=.5)\n",
        "plt.title('Correlation Heatmap between Spotify and TikTok Audio Features')\n",
        "plt.show()"
      ],
      "metadata": {
        "colab": {
          "base_uri": "https://localhost:8080/",
          "height": 890
        },
        "id": "3FRBnYGmDe9a",
        "outputId": "4a0ae000-9877-46b3-c20e-282dd954ae69"
      },
      "execution_count": 10,
      "outputs": [
        {
          "output_type": "stream",
          "name": "stdout",
          "text": [
            "Correlation Matrix:\n",
            "                peak_rank  weeks_on_chart  track_pop\n",
            "peak_rank        1.000000       -0.325262  -0.145370\n",
            "weeks_on_chart  -0.325262        1.000000  -0.276708\n",
            "track_pop       -0.145370       -0.276708   1.000000\n",
            "\n",
            "Pairs of Highly Correlated Variables:\n",
            "                peak_rank  weeks_on_chart  track_pop\n",
            "peak_rank           False           False      False\n",
            "weeks_on_chart      False           False      False\n",
            "track_pop           False           False      False\n"
          ]
        },
        {
          "output_type": "display_data",
          "data": {
            "text/plain": [
              "<Figure size 1000x800 with 2 Axes>"
            ],
            "image/png": "[encoded data removed]"
          },
          "metadata": {}
        }
      ]
    },
    {
      "cell_type": "code",
      "source": [
        "import plotly.express as px\n",
        "fig = px.scatter_3d(merged_df, x='track_pop', y='weeks_on_chart', z='peak_rank', color='energy_y')\n",
        "fig.show()"
      ],
      "metadata": {
        "colab": {
          "base_uri": "https://localhost:8080/",
          "height": 542
        },
        "id": "uvxawU6TOMTz",
        "outputId": "bb19b740-680c-4f5b-fde4-718031485ac8"
      },
      "execution_count": 11,
      "outputs": [
        {
          "output_type": "display_data",
          "data": {
            "text/html": [
              "<html>\n",
              "<head><meta charset=\"utf-8\" /></head>\n",
              "<body>\n",
              "    <div>            <script src=\"https://cdnjs.cloudflare.com/ajax/libs/mathjax/2.7.5/MathJax.js?config=TeX-AMS-MML_SVG\"></script><script type=\"text/javascript\">if (window.MathJax && window.MathJax.Hub && window.MathJax.Hub.Config) {window.MathJax.Hub.Config({SVG: {font: \"STIX-Web\"}});}</script>                <script type=\"text/javascript\">window.PlotlyConfig = {MathJaxConfig: 'local'};</script>\n",
              "        <script charset=\"utf-8\" src=\"https://cdn.plot.ly/plotly-2.24.1.min.js\"></script>                <div id=\"ab79278a-b988-4b40-b9d0-c02df68cab40\" class=\"plotly-graph-div\" style=\"height:525px; width:100%;\"></div>            <script type=\"text/javascript\">                                    window.PLOTLYENV=window.PLOTLYENV || {};                                    if (document.getElementById(\"ab79278a-b988-4b40-b9d0-c02df68cab40\")) {                    Plotly.newPlot(                        \"ab79278a-b988-4b40-b9d0-c02df68cab40\",                        [{\"hovertemplate\":\"track_pop=%{x}\\u003cbr\\u003eweeks_on_chart=%{y}\\u003cbr\\u003epeak_rank=%{z}\\u003cbr\\u003eenergy_y=%{marker.color}\\u003cextra\\u003e\\u003c\\u002fextra\\u003e\",\"legendgroup\":\"\",\"marker\":{\"color\":[0.547,0.731,0.731,0.714,0.525,0.743,0.317,0.494,0.764,0.783,0.582,0.912,0.772,0.54,0.611,0.736,0.636,0.817,0.657,0.691,0.508,0.773,0.65,0.766,0.697,0.538,0.731,0.86,0.47,0.691,0.626,0.895,0.739,0.893,0.728,0.7,0.503,0.523,0.846,0.8,0.603,0.49,0.446,0.388,0.327,0.764,0.616,0.471,0.705,0.8,0.564,0.664,0.59,0.695,0.705,0.671,0.763,0.609,0.554,0.941,0.73,0.73,0.536,0.488,0.719,0.696,0.802,0.825,0.807,0.621,0.862,0.716,0.431,0.459,0.459,0.62,0.705,0.61,0.793,0.267,0.752,0.71,0.669,0.692,0.673],\"coloraxis\":\"coloraxis\",\"symbol\":\"circle\"},\"mode\":\"markers\",\"name\":\"\",\"scene\":\"scene\",\"showlegend\":false,\"x\":[95,96,46,44,89,92,97,86,89,87,89,86,87,87,91,86,89,86,84,86,90,83,79,58,83,89,51,72,81,53,79,82,84,22,93,87,4,80,88,73,0,80,74,79,64,89,31,76,82,86,48,88,76,79,54,83,87,85,79,85,90,18,49,81,82,86,3,85,90,84,83,18,29,51,54,83,86,49,79,15,45,56,77,90,92],\"y\":[11,19,19,14,65,15,9,5,37,21,18,5,5,19,13,3,5,16,6,35,14,13,11,37,3,50,64,10,29,9,9,36,28,39,12,6,52,12,27,32,10,20,5,7,116,37,55,8,50,42,50,45,50,53,54,23,20,41,28,47,121,121,40,21,44,53,74,77,82,39,48,85,63,1,1,64,1,1,125,81,14,2,26,32,8],\"z\":[1,1,1,28,1,9,1,10,1,3,2,150,78,1,14,3,26,64,18,2,30,18,55,4,13,31,122,72,24,21,19,31,9,3,2,5,1,23,3,4,50,15,108,19,2,6,5,51,3,1,52,1,45,3,117,32,23,6,5,55,1,1,3,22,2,1,1,4,29,15,15,1,1,185,185,9,138,61,2,29,136,194,31,35,7],\"type\":\"scatter3d\"}],                        {\"template\":{\"data\":{\"histogram2dcontour\":[{\"type\":\"histogram2dcontour\",\"colorbar\":{\"outlinewidth\":0,\"ticks\":\"\"},\"colorscale\":[[0.0,\"#0d0887\"],[0.1111111111111111,\"#46039f\"],[0.2222222222222222,\"#7201a8\"],[0.3333333333333333,\"#9c179e\"],[0.4444444444444444,\"#bd3786\"],[0.5555555555555556,\"#d8576b\"],[0.6666666666666666,\"#ed7953\"],[0.7777777777777778,\"#fb9f3a\"],[0.8888888888888888,\"#fdca26\"],[1.0,\"#f0f921\"]]}],\"choropleth\":[{\"type\":\"choropleth\",\"colorbar\":{\"outlinewidth\":0,\"ticks\":\"\"}}],\"histogram2d\":[{\"type\":\"histogram2d\",\"colorbar\":{\"outlinewidth\":0,\"ticks\":\"\"},\"colorscale\":[[0.0,\"#0d0887\"],[0.1111111111111111,\"#46039f\"],[0.2222222222222222,\"#7201a8\"],[0.3333333333333333,\"#9c179e\"],[0.4444444444444444,\"#bd3786\"],[0.5555555555555556,\"#d8576b\"],[0.6666666666666666,\"#ed7953\"],[0.7777777777777778,\"#fb9f3a\"],[0.8888888888888888,\"#fdca26\"],[1.0,\"#f0f921\"]]}],\"heatmap\":[{\"type\":\"heatmap\",\"colorbar\":{\"outlinewidth\":0,\"ticks\":\"\"},\"colorscale\":[[0.0,\"#0d0887\"],[0.1111111111111111,\"#46039f\"],[0.2222222222222222,\"#7201a8\"],[0.3333333333333333,\"#9c179e\"],[0.4444444444444444,\"#bd3786\"],[0.5555555555555556,\"#d8576b\"],[0.6666666666666666,\"#ed7953\"],[0.7777777777777778,\"#fb9f3a\"],[0.8888888888888888,\"#fdca26\"],[1.0,\"#f0f921\"]]}],\"heatmapgl\":[{\"type\":\"heatmapgl\",\"colorbar\":{\"outlinewidth\":0,\"ticks\":\"\"},\"colorscale\":[[0.0,\"#0d0887\"],[0.1111111111111111,\"#46039f\"],[0.2222222222222222,\"#7201a8\"],[0.3333333333333333,\"#9c179e\"],[0.4444444444444444,\"#bd3786\"],[0.5555555555555556,\"#d8576b\"],[0.6666666666666666,\"#ed7953\"],[0.7777777777777778,\"#fb9f3a\"],[0.8888888888888888,\"#fdca26\"],[1.0,\"#f0f921\"]]}],\"contourcarpet\":[{\"type\":\"contourcarpet\",\"colorbar\":{\"outlinewidth\":0,\"ticks\":\"\"}}],\"contour\":[{\"type\":\"contour\",\"colorbar\":{\"outlinewidth\":0,\"ticks\":\"\"},\"colorscale\":[[0.0,\"#0d0887\"],[0.1111111111111111,\"#46039f\"],[0.2222222222222222,\"#7201a8\"],[0.3333333333333333,\"#9c179e\"],[0.4444444444444444,\"#bd3786\"],[0.5555555555555556,\"#d8576b\"],[0.6666666666666666,\"#ed7953\"],[0.7777777777777778,\"#fb9f3a\"],[0.8888888888888888,\"#fdca26\"],[1.0,\"#f0f921\"]]}],\"surface\":[{\"type\":\"surface\",\"colorbar\":{\"outlinewidth\":0,\"ticks\":\"\"},\"colorscale\":[[0.0,\"#0d0887\"],[0.1111111111111111,\"#46039f\"],[0.2222222222222222,\"#7201a8\"],[0.3333333333333333,\"#9c179e\"],[0.4444444444444444,\"#bd3786\"],[0.5555555555555556,\"#d8576b\"],[0.6666666666666666,\"#ed7953\"],[0.7777777777777778,\"#fb9f3a\"],[0.8888888888888888,\"#fdca26\"],[1.0,\"#f0f921\"]]}],\"mesh3d\":[{\"type\":\"mesh3d\",\"colorbar\":{\"outlinewidth\":0,\"ticks\":\"\"}}],\"scatter\":[{\"fillpattern\":{\"fillmode\":\"overlay\",\"size\":10,\"solidity\":0.2},\"type\":\"scatter\"}],\"parcoords\":[{\"type\":\"parcoords\",\"line\":{\"colorbar\":{\"outlinewidth\":0,\"ticks\":\"\"}}}],\"scatterpolargl\":[{\"type\":\"scatterpolargl\",\"marker\":{\"colorbar\":{\"outlinewidth\":0,\"ticks\":\"\"}}}],\"bar\":[{\"error_x\":{\"color\":\"#2a3f5f\"},\"error_y\":{\"color\":\"#2a3f5f\"},\"marker\":{\"line\":{\"color\":\"#E5ECF6\",\"width\":0.5},\"pattern\":{\"fillmode\":\"overlay\",\"size\":10,\"solidity\":0.2}},\"type\":\"bar\"}],\"scattergeo\":[{\"type\":\"scattergeo\",\"marker\":{\"colorbar\":{\"outlinewidth\":0,\"ticks\":\"\"}}}],\"scatterpolar\":[{\"type\":\"scatterpolar\",\"marker\":{\"colorbar\":{\"outlinewidth\":0,\"ticks\":\"\"}}}],\"histogram\":[{\"marker\":{\"pattern\":{\"fillmode\":\"overlay\",\"size\":10,\"solidity\":0.2}},\"type\":\"histogram\"}],\"scattergl\":[{\"type\":\"scattergl\",\"marker\":{\"colorbar\":{\"outlinewidth\":0,\"ticks\":\"\"}}}],\"scatter3d\":[{\"type\":\"scatter3d\",\"line\":{\"colorbar\":{\"outlinewidth\":0,\"ticks\":\"\"}},\"marker\":{\"colorbar\":{\"outlinewidth\":0,\"ticks\":\"\"}}}],\"scattermapbox\":[{\"type\":\"scattermapbox\",\"marker\":{\"colorbar\":{\"outlinewidth\":0,\"ticks\":\"\"}}}],\"scatterternary\":[{\"type\":\"scatterternary\",\"marker\":{\"colorbar\":{\"outlinewidth\":0,\"ticks\":\"\"}}}],\"scattercarpet\":[{\"type\":\"scattercarpet\",\"marker\":{\"colorbar\":{\"outlinewidth\":0,\"ticks\":\"\"}}}],\"carpet\":[{\"aaxis\":{\"endlinecolor\":\"#2a3f5f\",\"gridcolor\":\"white\",\"linecolor\":\"white\",\"minorgridcolor\":\"white\",\"startlinecolor\":\"#2a3f5f\"},\"baxis\":{\"endlinecolor\":\"#2a3f5f\",\"gridcolor\":\"white\",\"linecolor\":\"white\",\"minorgridcolor\":\"white\",\"startlinecolor\":\"#2a3f5f\"},\"type\":\"carpet\"}],\"table\":[{\"cells\":{\"fill\":{\"color\":\"#EBF0F8\"},\"line\":{\"color\":\"white\"}},\"header\":{\"fill\":{\"color\":\"#C8D4E3\"},\"line\":{\"color\":\"white\"}},\"type\":\"table\"}],\"barpolar\":[{\"marker\":{\"line\":{\"color\":\"#E5ECF6\",\"width\":0.5},\"pattern\":{\"fillmode\":\"overlay\",\"size\":10,\"solidity\":0.2}},\"type\":\"barpolar\"}],\"pie\":[{\"automargin\":true,\"type\":\"pie\"}]},\"layout\":{\"autotypenumbers\":\"strict\",\"colorway\":[\"#636efa\",\"#EF553B\",\"#00cc96\",\"#ab63fa\",\"#FFA15A\",\"#19d3f3\",\"#FF6692\",\"#B6E880\",\"#FF97FF\",\"#FECB52\"],\"font\":{\"color\":\"#2a3f5f\"},\"hovermode\":\"closest\",\"hoverlabel\":{\"align\":\"left\"},\"paper_bgcolor\":\"white\",\"plot_bgcolor\":\"#E5ECF6\",\"polar\":{\"bgcolor\":\"#E5ECF6\",\"angularaxis\":{\"gridcolor\":\"white\",\"linecolor\":\"white\",\"ticks\":\"\"},\"radialaxis\":{\"gridcolor\":\"white\",\"linecolor\":\"white\",\"ticks\":\"\"}},\"ternary\":{\"bgcolor\":\"#E5ECF6\",\"aaxis\":{\"gridcolor\":\"white\",\"linecolor\":\"white\",\"ticks\":\"\"},\"baxis\":{\"gridcolor\":\"white\",\"linecolor\":\"white\",\"ticks\":\"\"},\"caxis\":{\"gridcolor\":\"white\",\"linecolor\":\"white\",\"ticks\":\"\"}},\"coloraxis\":{\"colorbar\":{\"outlinewidth\":0,\"ticks\":\"\"}},\"colorscale\":{\"sequential\":[[0.0,\"#0d0887\"],[0.1111111111111111,\"#46039f\"],[0.2222222222222222,\"#7201a8\"],[0.3333333333333333,\"#9c179e\"],[0.4444444444444444,\"#bd3786\"],[0.5555555555555556,\"#d8576b\"],[0.6666666666666666,\"#ed7953\"],[0.7777777777777778,\"#fb9f3a\"],[0.8888888888888888,\"#fdca26\"],[1.0,\"#f0f921\"]],\"sequentialminus\":[[0.0,\"#0d0887\"],[0.1111111111111111,\"#46039f\"],[0.2222222222222222,\"#7201a8\"],[0.3333333333333333,\"#9c179e\"],[0.4444444444444444,\"#bd3786\"],[0.5555555555555556,\"#d8576b\"],[0.6666666666666666,\"#ed7953\"],[0.7777777777777778,\"#fb9f3a\"],[0.8888888888888888,\"#fdca26\"],[1.0,\"#f0f921\"]],\"diverging\":[[0,\"#8e0152\"],[0.1,\"#c51b7d\"],[0.2,\"#de77ae\"],[0.3,\"#f1b6da\"],[0.4,\"#fde0ef\"],[0.5,\"#f7f7f7\"],[0.6,\"#e6f5d0\"],[0.7,\"#b8e186\"],[0.8,\"#7fbc41\"],[0.9,\"#4d9221\"],[1,\"#276419\"]]},\"xaxis\":{\"gridcolor\":\"white\",\"linecolor\":\"white\",\"ticks\":\"\",\"title\":{\"standoff\":15},\"zerolinecolor\":\"white\",\"automargin\":true,\"zerolinewidth\":2},\"yaxis\":{\"gridcolor\":\"white\",\"linecolor\":\"white\",\"ticks\":\"\",\"title\":{\"standoff\":15},\"zerolinecolor\":\"white\",\"automargin\":true,\"zerolinewidth\":2},\"scene\":{\"xaxis\":{\"backgroundcolor\":\"#E5ECF6\",\"gridcolor\":\"white\",\"linecolor\":\"white\",\"showbackground\":true,\"ticks\":\"\",\"zerolinecolor\":\"white\",\"gridwidth\":2},\"yaxis\":{\"backgroundcolor\":\"#E5ECF6\",\"gridcolor\":\"white\",\"linecolor\":\"white\",\"showbackground\":true,\"ticks\":\"\",\"zerolinecolor\":\"white\",\"gridwidth\":2},\"zaxis\":{\"backgroundcolor\":\"#E5ECF6\",\"gridcolor\":\"white\",\"linecolor\":\"white\",\"showbackground\":true,\"ticks\":\"\",\"zerolinecolor\":\"white\",\"gridwidth\":2}},\"shapedefaults\":{\"line\":{\"color\":\"#2a3f5f\"}},\"annotationdefaults\":{\"arrowcolor\":\"#2a3f5f\",\"arrowhead\":0,\"arrowwidth\":1},\"geo\":{\"bgcolor\":\"white\",\"landcolor\":\"#E5ECF6\",\"subunitcolor\":\"white\",\"showland\":true,\"showlakes\":true,\"lakecolor\":\"white\"},\"title\":{\"x\":0.05},\"mapbox\":{\"style\":\"light\"}}},\"scene\":{\"domain\":{\"x\":[0.0,1.0],\"y\":[0.0,1.0]},\"xaxis\":{\"title\":{\"text\":\"track_pop\"}},\"yaxis\":{\"title\":{\"text\":\"weeks_on_chart\"}},\"zaxis\":{\"title\":{\"text\":\"peak_rank\"}}},\"coloraxis\":{\"colorbar\":{\"title\":{\"text\":\"energy_y\"}},\"colorscale\":[[0.0,\"#0d0887\"],[0.1111111111111111,\"#46039f\"],[0.2222222222222222,\"#7201a8\"],[0.3333333333333333,\"#9c179e\"],[0.4444444444444444,\"#bd3786\"],[0.5555555555555556,\"#d8576b\"],[0.6666666666666666,\"#ed7953\"],[0.7777777777777778,\"#fb9f3a\"],[0.8888888888888888,\"#fdca26\"],[1.0,\"#f0f921\"]]},\"legend\":{\"tracegroupgap\":0},\"margin\":{\"t\":60}},                        {\"responsive\": true}                    ).then(function(){\n",
              "                            \n",
              "var gd = document.getElementById('ab79278a-b988-4b40-b9d0-c02df68cab40');\n",
              "var x = new MutationObserver(function (mutations, observer) {{\n",
              "        var display = window.getComputedStyle(gd).display;\n",
              "        if (!display || display === 'none') {{\n",
              "            console.log([gd, 'removed!']);\n",
              "            Plotly.purge(gd);\n",
              "            observer.disconnect();\n",
              "        }}\n",
              "}});\n",
              "\n",
              "// Listen for the removal of the full notebook cells\n",
              "var notebookContainer = gd.closest('#notebook-container');\n",
              "if (notebookContainer) {{\n",
              "    x.observe(notebookContainer, {childList: true});\n",
              "}}\n",
              "\n",
              "// Listen for the clearing of the current output cell\n",
              "var outputEl = gd.closest('.output');\n",
              "if (outputEl) {{\n",
              "    x.observe(outputEl, {childList: true});\n",
              "}}\n",
              "\n",
              "                        })                };                            </script>        </div>\n",
              "</body>\n",
              "</html>"
            ]
          },
          "metadata": {}
        }
      ]
    },
    {
      "cell_type": "code",
      "source": [],
      "metadata": {
        "id": "1jwwVdsBPMf-"
      },
      "execution_count": 11,
      "outputs": []
    },
    {
      "cell_type": "code",
      "source": [
        "#Considering seemingly strong positive correlation between peak_rank and track popularity, we run a simple linear regression to explore this further.\n",
        "\n",
        "import statsmodels.api as sm\n",
        "\n",
        "# Define independent variables (X) and dependent variable (Y)\n",
        "X = merged_df['track_pop']\n",
        "Y = merged_df['peak_rank']\n",
        "\n",
        "# Add a constant term for the intercept\n",
        "X = sm.add_constant(X)\n",
        "\n",
        "# Fit the regression model\n",
        "model = sm.OLS(Y, X).fit()\n",
        "\n",
        "# Print regression summary\n",
        "print(model.summary())"
      ],
      "metadata": {
        "colab": {
          "base_uri": "https://localhost:8080/"
        },
        "id": "hlsJSjSL5Cw2",
        "outputId": "2b00e441-722a-4fe3-eb75-d721bd9b5b4a"
      },
      "execution_count": 12,
      "outputs": [
        {
          "output_type": "stream",
          "name": "stdout",
          "text": [
            "                            OLS Regression Results                            \n",
            "==============================================================================\n",
            "Dep. Variable:              peak_rank   R-squared:                       0.021\n",
            "Model:                            OLS   Adj. R-squared:                  0.009\n",
            "Method:                 Least Squares   F-statistic:                     1.792\n",
            "Date:                Sun, 07 Apr 2024   Prob (F-statistic):              0.184\n",
            "Time:                        00:10:56   Log-Likelihood:                -444.20\n",
            "No. Observations:                  85   AIC:                             892.4\n",
            "Df Residuals:                      83   BIC:                             897.3\n",
            "Df Model:                           1                                         \n",
            "Covariance Type:            nonrobust                                         \n",
            "==============================================================================\n",
            "                 coef    std err          t      P>|t|      [0.025      0.975]\n",
            "------------------------------------------------------------------------------\n",
            "const         50.7740     15.777      3.218      0.002      19.395      82.153\n",
            "track_pop     -0.2784      0.208     -1.339      0.184      -0.692       0.135\n",
            "==============================================================================\n",
            "Omnibus:                       44.939   Durbin-Watson:                   1.463\n",
            "Prob(Omnibus):                  0.000   Jarque-Bera (JB):              101.340\n",
            "Skew:                           2.007   Prob(JB):                     9.87e-23\n",
            "Kurtosis:                       6.537   Cond. No.                         242.\n",
            "==============================================================================\n",
            "\n",
            "Notes:\n",
            "[1] Standard Errors assume that the covariance matrix of the errors is correctly specified.\n"
          ]
        }
      ]
    },
    {
      "cell_type": "code",
      "source": [
        "#with a p-value of 0.184, we are not able to reject the null hypothesis. This means we could be exploring a non-linear relationship or the regression is\n",
        "# thrown off by outliers in the peak_rank model. Let us explore the boxplot for this variable and its basic statistics."
      ],
      "metadata": {
        "id": "2Z6W_u0J4i15"
      },
      "execution_count": 13,
      "outputs": []
    },
    {
      "cell_type": "code",
      "source": [
        "merged_df['peak_rank'].median()"
      ],
      "metadata": {
        "colab": {
          "base_uri": "https://localhost:8080/"
        },
        "id": "4M_pgcX14T5_",
        "outputId": "f72e2e08-a05d-4c38-fa90-7e02a2fe5825"
      },
      "execution_count": 14,
      "outputs": [
        {
          "output_type": "execute_result",
          "data": {
            "text/plain": [
              "13.0"
            ]
          },
          "metadata": {},
          "execution_count": 14
        }
      ]
    },
    {
      "cell_type": "code",
      "source": [
        "merged_df['peak_rank'].mean()"
      ],
      "metadata": {
        "id": "RNwPtzUI4XqN",
        "colab": {
          "base_uri": "https://localhost:8080/"
        },
        "outputId": "1cecb974-8a3a-455f-9de4-2cd656f425c1"
      },
      "execution_count": 15,
      "outputs": [
        {
          "output_type": "execute_result",
          "data": {
            "text/plain": [
              "30.71764705882353"
            ]
          },
          "metadata": {},
          "execution_count": 15
        }
      ]
    },
    {
      "cell_type": "code",
      "source": [
        "merged_df['peak_rank'].std()"
      ],
      "metadata": {
        "colab": {
          "base_uri": "https://localhost:8080/"
        },
        "id": "qTUHCV4x5Jye",
        "outputId": "0bfe624f-23b2-4ce6-e95a-1ce06c10de1d"
      },
      "execution_count": 16,
      "outputs": [
        {
          "output_type": "execute_result",
          "data": {
            "text/plain": [
              "45.76820786900681"
            ]
          },
          "metadata": {},
          "execution_count": 16
        }
      ]
    },
    {
      "cell_type": "code",
      "source": [
        "merged_df['peak_rank'].hist()"
      ],
      "metadata": {
        "colab": {
          "base_uri": "https://localhost:8080/",
          "height": 447
        },
        "id": "0n4G1alU5NR-",
        "outputId": "46f690cf-350d-48ba-fb68-79cdffc130f8"
      },
      "execution_count": 17,
      "outputs": [
        {
          "output_type": "execute_result",
          "data": {
            "text/plain": [
              "<Axes: >"
            ]
          },
          "metadata": {},
          "execution_count": 17
        },
        {
          "output_type": "display_data",
          "data": {
            "text/plain": [
              "<Figure size 640x480 with 1 Axes>"
            ],
            "image/png": "[encoded data removed]"
          },
          "metadata": {}
        }
      ]
    },
    {
      "cell_type": "code",
      "source": [
        "merged_df['weeks_on_chart'].std()"
      ],
      "metadata": {
        "colab": {
          "base_uri": "https://localhost:8080/"
        },
        "id": "irebf1B96RUG",
        "outputId": "5c74b4d0-4d9b-4aaa-f1a6-6a9b15d1bc63"
      },
      "execution_count": 18,
      "outputs": [
        {
          "output_type": "execute_result",
          "data": {
            "text/plain": [
              "29.46972049019651"
            ]
          },
          "metadata": {},
          "execution_count": 18
        }
      ]
    },
    {
      "cell_type": "code",
      "source": [
        "merged_df['weeks_on_chart'].mean()"
      ],
      "metadata": {
        "colab": {
          "base_uri": "https://localhost:8080/"
        },
        "id": "nb1j4LjO3w4S",
        "outputId": "502a5851-a1e1-4d8c-b234-b31c1a3571b6"
      },
      "execution_count": 19,
      "outputs": [
        {
          "output_type": "execute_result",
          "data": {
            "text/plain": [
              "33.15294117647059"
            ]
          },
          "metadata": {},
          "execution_count": 19
        }
      ]
    },
    {
      "cell_type": "code",
      "source": [
        "merged_df['weeks_on_chart'].median()"
      ],
      "metadata": {
        "colab": {
          "base_uri": "https://localhost:8080/"
        },
        "id": "veKArc134FLd",
        "outputId": "6691e14e-de8b-489d-c9ac-9d4ee88699ec"
      },
      "execution_count": 20,
      "outputs": [
        {
          "output_type": "execute_result",
          "data": {
            "text/plain": [
              "26.0"
            ]
          },
          "metadata": {},
          "execution_count": 20
        }
      ]
    },
    {
      "cell_type": "code",
      "source": [
        "#Boxplot for Peak Rank\n",
        "\n",
        "import matplotlib.pyplot as plt\n",
        "import seaborn as sns\n",
        "\n",
        "# Create a boxplot\n",
        "plt.figure(figsize=(8, 6))\n",
        "sns.boxplot(y='peak_rank', data=merged_df, palette='viridis')\n",
        "plt.title('Boxplot for Variable by Peak Rank')\n",
        "plt.ylabel('Peak Rank')\n",
        "plt.show()"
      ],
      "metadata": {
        "colab": {
          "base_uri": "https://localhost:8080/",
          "height": 648
        },
        "id": "mSs1G3mR6uq-",
        "outputId": "e1431f5e-b96d-4ad6-d907-1bb390605373"
      },
      "execution_count": 21,
      "outputs": [
        {
          "output_type": "stream",
          "name": "stderr",
          "text": [
            "<ipython-input-21-cd14185e0e9e>:8: FutureWarning:\n",
            "\n",
            "\n",
            "\n",
            "Passing `palette` without assigning `hue` is deprecated and will be removed in v0.14.0. Assign the `x` variable to `hue` and set `legend=False` for the same effect.\n",
            "\n",
            "\n"
          ]
        },
        {
          "output_type": "display_data",
          "data": {
            "text/plain": [
              "<Figure size 800x600 with 1 Axes>"
            ],
            "image/png": "[encoded data removed]"
          },
          "metadata": {}
        }
      ]
    },
    {
      "cell_type": "code",
      "source": [
        "# Create a Violin Plot for Peak Rank\n",
        "plt.figure(figsize=(8, 6))\n",
        "sns.violinplot(y='peak_rank', data=merged_df, color='pink')\n",
        "plt.title('Violin plot for Peak Rank')\n",
        "plt.ylabel('Peak Rank on Spotify')\n",
        "plt.show()"
      ],
      "metadata": {
        "colab": {
          "base_uri": "https://localhost:8080/",
          "height": 529
        },
        "id": "pgxFLFrK5uPm",
        "outputId": "e53602a2-777f-436c-d6bb-af9ac4e6cdd1"
      },
      "execution_count": 22,
      "outputs": [
        {
          "output_type": "display_data",
          "data": {
            "text/plain": [
              "<Figure size 800x600 with 1 Axes>"
            ],
            "image/png": "[encoded data removed]"
          },
          "metadata": {}
        }
      ]
    },
    {
      "cell_type": "code",
      "source": [],
      "metadata": {
        "id": "L6KpoY0l5uyc"
      },
      "execution_count": 22,
      "outputs": []
    },
    {
      "cell_type": "code",
      "source": [
        "# Create a Violin plot on weeks on chart\n",
        "plt.figure(figsize=(8, 6))\n",
        "sns.violinplot(y='weeks_on_chart', data=merged_df, color='purple')\n",
        "plt.title('Violin for Variable by Weeks on Chart')\n",
        "plt.ylabel('Weeks on Chart')\n",
        "plt.show()"
      ],
      "metadata": {
        "colab": {
          "base_uri": "https://localhost:8080/",
          "height": 526
        },
        "id": "tcJjJmlK4R89",
        "outputId": "988bbe61-71f2-479b-f232-c2361f85c817"
      },
      "execution_count": 23,
      "outputs": [
        {
          "output_type": "display_data",
          "data": {
            "text/plain": [
              "<Figure size 800x600 with 1 Axes>"
            ],
            "image/png": "[encoded data removed]"
          },
          "metadata": {}
        }
      ]
    },
    {
      "cell_type": "code",
      "source": [],
      "metadata": {
        "id": "3gLRhL-YWX78"
      },
      "execution_count": 23,
      "outputs": []
    },
    {
      "cell_type": "code",
      "source": [
        "#The boxplot clearly shows that there are a significant outliers for Peak_rank. We can replace the outliers with the median of this population for this analysis"
      ],
      "metadata": {
        "id": "oZANp6ut76lY"
      },
      "execution_count": 24,
      "outputs": []
    },
    {
      "cell_type": "code",
      "source": [
        "#Replacing the outliers for peak_rank in the merged dataset with the median\n",
        "\n",
        "median_value = merged_df['peak_rank'].median()\n",
        "Q1 = merged_df['peak_rank'].quantile(0.25)\n",
        "Q3 = merged_df['peak_rank'].quantile(0.75)\n",
        "IQR = Q3 - Q1\n",
        "\n",
        "# Define the lower and upper bounds for outliers\n",
        "lower_bound = Q1 - 1.5 * IQR\n",
        "upper_bound = Q3 + 1.5 * IQR\n",
        "\n",
        "# Replace outliers with the median\n",
        "merged_df['peak_rank'] = merged_df['peak_rank'].apply(lambda x: median_value if x < lower_bound or x > upper_bound else x)"
      ],
      "metadata": {
        "id": "qi4kdc8K8MyL"
      },
      "execution_count": 25,
      "outputs": []
    },
    {
      "cell_type": "code",
      "source": [
        "#Max value of peak rank is now 72 instead of 194.\n",
        "merged_df['peak_rank'].max()"
      ],
      "metadata": {
        "colab": {
          "base_uri": "https://localhost:8080/"
        },
        "id": "UPSqRLo28PMW",
        "outputId": "3eed1fc3-c4e0-4886-9fa0-d8f9455f0d19"
      },
      "execution_count": 26,
      "outputs": [
        {
          "output_type": "execute_result",
          "data": {
            "text/plain": [
              "72.0"
            ]
          },
          "metadata": {},
          "execution_count": 26
        }
      ]
    },
    {
      "cell_type": "code",
      "source": [
        "result = merged_df.loc[merged_df['track_name']==\"Demons\"] #initial value was 194\n",
        "result['peak_rank']"
      ],
      "metadata": {
        "colab": {
          "base_uri": "https://localhost:8080/"
        },
        "id": "gx7wtdEF8U3v",
        "outputId": "50b30238-a1c6-49e4-8096-161a1b098beb"
      },
      "execution_count": 27,
      "outputs": [
        {
          "output_type": "execute_result",
          "data": {
            "text/plain": [
              "81    13.0\n",
              "Name: peak_rank, dtype: float64"
            ]
          },
          "metadata": {},
          "execution_count": 27
        }
      ]
    },
    {
      "cell_type": "code",
      "source": [
        "#After modifying the dataset, we will perform the regression again, to see if there is a significant difference\n",
        "import statsmodels.api as sm\n",
        "\n",
        "# Define independent variables (X) and dependent variable (Y)\n",
        "\n",
        "X = merged_df['track_pop']\n",
        "Y = merged_df['peak_rank']\n",
        "# Add a constant term for the intercept\n",
        "X = sm.add_constant(X)\n",
        "\n",
        "# Fit the regression model\n",
        "model = sm.OLS(Y, X).fit()\n",
        "\n",
        "# Print regression summary\n",
        "print(model.summary())"
      ],
      "metadata": {
        "colab": {
          "base_uri": "https://localhost:8080/"
        },
        "id": "pF1Kxd7v8ow3",
        "outputId": "bf2987d1-9e2e-4908-bc98-9338712615b7"
      },
      "execution_count": 28,
      "outputs": [
        {
          "output_type": "stream",
          "name": "stdout",
          "text": [
            "                            OLS Regression Results                            \n",
            "==============================================================================\n",
            "Dep. Variable:              peak_rank   R-squared:                       0.001\n",
            "Model:                            OLS   Adj. R-squared:                 -0.011\n",
            "Method:                 Least Squares   F-statistic:                   0.07846\n",
            "Date:                Sun, 07 Apr 2024   Prob (F-statistic):              0.780\n",
            "Time:                        00:10:57   Log-Likelihood:                -361.55\n",
            "No. Observations:                  85   AIC:                             727.1\n",
            "Df Residuals:                      83   BIC:                             732.0\n",
            "Df Model:                           1                                         \n",
            "Covariance Type:            nonrobust                                         \n",
            "==============================================================================\n",
            "                 coef    std err          t      P>|t|      [0.025      0.975]\n",
            "------------------------------------------------------------------------------\n",
            "const         17.2107      5.966      2.885      0.005       5.344      29.078\n",
            "track_pop     -0.0220      0.079     -0.280      0.780      -0.178       0.134\n",
            "==============================================================================\n",
            "Omnibus:                       26.110   Durbin-Watson:                   2.131\n",
            "Prob(Omnibus):                  0.000   Jarque-Bera (JB):               36.695\n",
            "Skew:                           1.440   Prob(JB):                     1.08e-08\n",
            "Kurtosis:                       4.436   Cond. No.                         242.\n",
            "==============================================================================\n",
            "\n",
            "Notes:\n",
            "[1] Standard Errors assume that the covariance matrix of the errors is correctly specified.\n"
          ]
        }
      ]
    },
    {
      "cell_type": "code",
      "source": [
        "# Simple Linear Regression between Track Popularity and Weeks on Chart\n",
        "\n",
        "import statsmodels.api as sm\n",
        "\n",
        "# Define independent variables (X) and dependent variable (Y)\n",
        "\n",
        "X = merged_df['track_pop']\n",
        "Y = merged_df['weeks_on_chart']\n",
        "\n",
        "# Add a constant term for the intercept\n",
        "X = sm.add_constant(X)\n",
        "\n",
        "# Fit the regression model\n",
        "model = sm.OLS(Y, X).fit()\n",
        "\n",
        "# Print regression summary\n",
        "print(model.summary())\n",
        "\n",
        "\n",
        "'''The P-value associated with weeks_on_chart is significant, 0.010 <0.05 considering the typical value of alpha=0.05\n",
        "This indicates that popular tracks on TikTok will enjoy more weeks on Spotify Charts '''"
      ],
      "metadata": {
        "colab": {
          "base_uri": "https://localhost:8080/",
          "height": 487
        },
        "id": "M-GMhimV8Mu4",
        "outputId": "2c5ed7a7-5d92-4af8-ef48-465deda2aa80"
      },
      "execution_count": 29,
      "outputs": [
        {
          "output_type": "stream",
          "name": "stdout",
          "text": [
            "                            OLS Regression Results                            \n",
            "==============================================================================\n",
            "Dep. Variable:         weeks_on_chart   R-squared:                       0.077\n",
            "Model:                            OLS   Adj. R-squared:                  0.065\n",
            "Method:                 Least Squares   F-statistic:                     6.882\n",
            "Date:                Sun, 07 Apr 2024   Prob (F-statistic):             0.0104\n",
            "Time:                        00:10:57   Log-Likelihood:                -404.31\n",
            "No. Observations:                  85   AIC:                             812.6\n",
            "Df Residuals:                      83   BIC:                             817.5\n",
            "Df Model:                           1                                         \n",
            "Covariance Type:            nonrobust                                         \n",
            "==============================================================================\n",
            "                 coef    std err          t      P>|t|      [0.025      0.975]\n",
            "------------------------------------------------------------------------------\n",
            "const         57.7346      9.867      5.851      0.000      38.110      77.359\n",
            "track_pop     -0.3412      0.130     -2.623      0.010      -0.600      -0.083\n",
            "==============================================================================\n",
            "Omnibus:                       24.561   Durbin-Watson:                   1.473\n",
            "Prob(Omnibus):                  0.000   Jarque-Bera (JB):               36.105\n",
            "Skew:                           1.256   Prob(JB):                     1.45e-08\n",
            "Kurtosis:                       4.971   Cond. No.                         242.\n",
            "==============================================================================\n",
            "\n",
            "Notes:\n",
            "[1] Standard Errors assume that the covariance matrix of the errors is correctly specified.\n"
          ]
        },
        {
          "output_type": "execute_result",
          "data": {
            "text/plain": [
              "'The P-value associated with weeks_on_chart is significant, 0.010 <0.05 considering the typical value of alpha=0.05\\nThis indicates that popular tracks on TikTok will enjoy more weeks on Spotify Charts '"
            ],
            "application/vnd.google.colaboratory.intrinsic+json": {
              "type": "string"
            }
          },
          "metadata": {},
          "execution_count": 29
        }
      ]
    },
    {
      "cell_type": "code",
      "source": [
        "#Logarithmic Regression\n",
        "\n",
        "import statsmodels.api as sm\n",
        "\n",
        "# Define independent variables (X) and dependent variable (Y)\n",
        "\n",
        "X = merged_df['track_pop']\n",
        "Y = merged_df['peak_rank']\n",
        "\n",
        "# Add a constant term for the intercept\n",
        "X = sm.add_constant(X)\n",
        "\n",
        "# Fit the regression model\n",
        "model = sm.OLS(Y, X).fit()\n",
        "\n",
        "# Print regression summary\n",
        "print(model.summary())"
      ],
      "metadata": {
        "id": "Y9Wj5EsCFoOa",
        "colab": {
          "base_uri": "https://localhost:8080/"
        },
        "outputId": "05ffde3b-dea6-4fe0-8034-da90a6d8245f"
      },
      "execution_count": 30,
      "outputs": [
        {
          "output_type": "stream",
          "name": "stdout",
          "text": [
            "                            OLS Regression Results                            \n",
            "==============================================================================\n",
            "Dep. Variable:              peak_rank   R-squared:                       0.001\n",
            "Model:                            OLS   Adj. R-squared:                 -0.011\n",
            "Method:                 Least Squares   F-statistic:                   0.07846\n",
            "Date:                Sun, 07 Apr 2024   Prob (F-statistic):              0.780\n",
            "Time:                        00:10:57   Log-Likelihood:                -361.55\n",
            "No. Observations:                  85   AIC:                             727.1\n",
            "Df Residuals:                      83   BIC:                             732.0\n",
            "Df Model:                           1                                         \n",
            "Covariance Type:            nonrobust                                         \n",
            "==============================================================================\n",
            "                 coef    std err          t      P>|t|      [0.025      0.975]\n",
            "------------------------------------------------------------------------------\n",
            "const         17.2107      5.966      2.885      0.005       5.344      29.078\n",
            "track_pop     -0.0220      0.079     -0.280      0.780      -0.178       0.134\n",
            "==============================================================================\n",
            "Omnibus:                       26.110   Durbin-Watson:                   2.131\n",
            "Prob(Omnibus):                  0.000   Jarque-Bera (JB):               36.695\n",
            "Skew:                           1.440   Prob(JB):                     1.08e-08\n",
            "Kurtosis:                       4.436   Cond. No.                         242.\n",
            "==============================================================================\n",
            "\n",
            "Notes:\n",
            "[1] Standard Errors assume that the covariance matrix of the errors is correctly specified.\n"
          ]
        }
      ]
    },
    {
      "cell_type": "code",
      "source": [
        "#Multiple Regression\n",
        "import statsmodels.api as sm\n",
        "\n",
        "# Define independent variables (X) and dependent variable (Y)\n",
        "\n",
        "y = merged_df[['track_pop', 'danceability_x', 'instrumentalness_x']]\n",
        "Y = merged_df['weeks_on_chart']\n",
        "\n",
        "# Add a constant term for the intercept\n",
        "X = sm.add_constant(X)\n",
        "\n",
        "# Fit the regression model\n",
        "model = sm.OLS(Y, X).fit()\n",
        "\n",
        "# Print regression summary\n",
        "print(model.summary())"
      ],
      "metadata": {
        "id": "-K4OzbkV8PDV",
        "colab": {
          "base_uri": "https://localhost:8080/"
        },
        "outputId": "bc8c81c3-df37-49b7-ee2c-40432e4c4ae6"
      },
      "execution_count": 31,
      "outputs": [
        {
          "output_type": "stream",
          "name": "stdout",
          "text": [
            "                            OLS Regression Results                            \n",
            "==============================================================================\n",
            "Dep. Variable:         weeks_on_chart   R-squared:                       0.077\n",
            "Model:                            OLS   Adj. R-squared:                  0.065\n",
            "Method:                 Least Squares   F-statistic:                     6.882\n",
            "Date:                Sun, 07 Apr 2024   Prob (F-statistic):             0.0104\n",
            "Time:                        00:10:57   Log-Likelihood:                -404.31\n",
            "No. Observations:                  85   AIC:                             812.6\n",
            "Df Residuals:                      83   BIC:                             817.5\n",
            "Df Model:                           1                                         \n",
            "Covariance Type:            nonrobust                                         \n",
            "==============================================================================\n",
            "                 coef    std err          t      P>|t|      [0.025      0.975]\n",
            "------------------------------------------------------------------------------\n",
            "const         57.7346      9.867      5.851      0.000      38.110      77.359\n",
            "track_pop     -0.3412      0.130     -2.623      0.010      -0.600      -0.083\n",
            "==============================================================================\n",
            "Omnibus:                       24.561   Durbin-Watson:                   1.473\n",
            "Prob(Omnibus):                  0.000   Jarque-Bera (JB):               36.105\n",
            "Skew:                           1.256   Prob(JB):                     1.45e-08\n",
            "Kurtosis:                       4.971   Cond. No.                         242.\n",
            "==============================================================================\n",
            "\n",
            "Notes:\n",
            "[1] Standard Errors assume that the covariance matrix of the errors is correctly specified.\n"
          ]
        }
      ]
    },
    {
      "cell_type": "code",
      "source": [
        "import statsmodels.api as sm\n",
        "\n",
        "# Define independent variables (X) and dependent variable (Y)\n",
        "\n",
        "x = merged_df['track_pop']\n",
        "y = merged_df[['weeks_on_chart', 'peak_rank', 'danceability_y']]\n",
        "\n",
        "# Add a constant term for the intercept\n",
        "X = sm.add_constant(X)\n",
        "\n",
        "# Fit the regression model\n",
        "model = sm.OLS(Y, X).fit()\n",
        "\n",
        "# Print regression summary\n",
        "print(model.summary())"
      ],
      "metadata": {
        "id": "4bkFzHFwnRpe",
        "colab": {
          "base_uri": "https://localhost:8080/"
        },
        "outputId": "fe1c96b4-3555-4054-cce7-6453b2948414"
      },
      "execution_count": 32,
      "outputs": [
        {
          "output_type": "stream",
          "name": "stdout",
          "text": [
            "                            OLS Regression Results                            \n",
            "==============================================================================\n",
            "Dep. Variable:         weeks_on_chart   R-squared:                       0.077\n",
            "Model:                            OLS   Adj. R-squared:                  0.065\n",
            "Method:                 Least Squares   F-statistic:                     6.882\n",
            "Date:                Sun, 07 Apr 2024   Prob (F-statistic):             0.0104\n",
            "Time:                        00:10:57   Log-Likelihood:                -404.31\n",
            "No. Observations:                  85   AIC:                             812.6\n",
            "Df Residuals:                      83   BIC:                             817.5\n",
            "Df Model:                           1                                         \n",
            "Covariance Type:            nonrobust                                         \n",
            "==============================================================================\n",
            "                 coef    std err          t      P>|t|      [0.025      0.975]\n",
            "------------------------------------------------------------------------------\n",
            "const         57.7346      9.867      5.851      0.000      38.110      77.359\n",
            "track_pop     -0.3412      0.130     -2.623      0.010      -0.600      -0.083\n",
            "==============================================================================\n",
            "Omnibus:                       24.561   Durbin-Watson:                   1.473\n",
            "Prob(Omnibus):                  0.000   Jarque-Bera (JB):               36.105\n",
            "Skew:                           1.256   Prob(JB):                     1.45e-08\n",
            "Kurtosis:                       4.971   Cond. No.                         242.\n",
            "==============================================================================\n",
            "\n",
            "Notes:\n",
            "[1] Standard Errors assume that the covariance matrix of the errors is correctly specified.\n"
          ]
        }
      ]
    },
    {
      "cell_type": "code",
      "source": [
        "#Simple Linear regression between danceability and track popularity\n",
        "\n",
        "import statsmodels.api as sm\n",
        "\n",
        "# Define independent variables (X) and dependent variable (Y)\n",
        "\n",
        "X = merged_df['track_pop']\n",
        "Y = merged_df['danceability_y']\n",
        "\n",
        "# Add a constant term for the intercept\n",
        "X = sm.add_constant(X)\n",
        "\n",
        "# Fit the regression model\n",
        "model = sm.OLS(Y, X).fit()\n",
        "\n",
        "# Print regression summary\n",
        "print(model.summary())"
      ],
      "metadata": {
        "id": "9-t-EAk18tnH",
        "colab": {
          "base_uri": "https://localhost:8080/"
        },
        "outputId": "d6bb287c-fb62-4f7a-95d5-db51cbe970e0"
      },
      "execution_count": 33,
      "outputs": [
        {
          "output_type": "stream",
          "name": "stdout",
          "text": [
            "                            OLS Regression Results                            \n",
            "==============================================================================\n",
            "Dep. Variable:         danceability_y   R-squared:                       0.000\n",
            "Model:                            OLS   Adj. R-squared:                 -0.012\n",
            "Method:                 Least Squares   F-statistic:                   0.02663\n",
            "Date:                Sun, 07 Apr 2024   Prob (F-statistic):              0.871\n",
            "Time:                        00:10:57   Log-Likelihood:                 49.502\n",
            "No. Observations:                  85   AIC:                            -95.00\n",
            "Df Residuals:                      83   BIC:                            -90.12\n",
            "Df Model:                           1                                         \n",
            "Covariance Type:            nonrobust                                         \n",
            "==============================================================================\n",
            "                 coef    std err          t      P>|t|      [0.025      0.975]\n",
            "------------------------------------------------------------------------------\n",
            "const          0.6637      0.047     14.010      0.000       0.569       0.758\n",
            "track_pop      0.0001      0.001      0.163      0.871      -0.001       0.001\n",
            "==============================================================================\n",
            "Omnibus:                        3.783   Durbin-Watson:                   1.901\n",
            "Prob(Omnibus):                  0.151   Jarque-Bera (JB):                3.751\n",
            "Skew:                          -0.479   Prob(JB):                        0.153\n",
            "Kurtosis:                       2.623   Cond. No.                         242.\n",
            "==============================================================================\n",
            "\n",
            "Notes:\n",
            "[1] Standard Errors assume that the covariance matrix of the errors is correctly specified.\n"
          ]
        }
      ]
    }
  ],
  "metadata": {
    "colab": {
      "provenance": [],
      "include_colab_link": true
    },
    "kernelspec": {
      "display_name": "Python 3",
      "name": "python3"
    },
    "language_info": {
      "name": "python"
    }
  },
  "nbformat": 4,
  "nbformat_minor": 0
}